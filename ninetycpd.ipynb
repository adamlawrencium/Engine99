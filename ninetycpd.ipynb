{
 "cells": [
  {
   "cell_type": "code",
   "execution_count": 1,
   "metadata": {
    "ExecuteTime": {
     "end_time": "2018-04-13T12:31:42.068083Z",
     "start_time": "2018-04-13T12:31:39.137225Z"
    }
   },
   "outputs": [],
   "source": [
    "import graphlab as gl\n",
    "from graphlab import SFrame\n",
    "import xmltodict"
   ]
  },
  {
   "cell_type": "code",
   "execution_count": 2,
   "metadata": {},
   "outputs": [
    {
     "name": "stdout",
     "output_type": "stream",
     "text": [
      "This non-commercial license of GraphLab Create for academic use is assigned to matthew_lean255@esc.edu and will expire on December 20, 2018.\n"
     ]
    },
    {
     "name": "stderr",
     "output_type": "stream",
     "text": [
      "[INFO] graphlab.cython.cy_server: GraphLab Create v2.1 started. Logging: /tmp/graphlab_server_1514174366.log\n"
     ]
    }
   ],
   "source": [
    "sfninety = gl.load_sframe('/Users/mrl/Projects/dev/gl/ninety/sfmain_saved')"
   ]
  },
  {
   "cell_type": "code",
   "execution_count": 2,
   "metadata": {
    "ExecuteTime": {
     "end_time": "2018-04-13T12:31:46.847310Z",
     "start_time": "2018-04-13T12:31:43.844724Z"
    }
   },
   "outputs": [
    {
     "name": "stderr",
     "output_type": "stream",
     "text": [
      "[INFO] graphlab.cython.cy_server: GraphLab Create v2.1 started. Logging: /tmp/graphlab_server_1523637103.log\n"
     ]
    },
    {
     "name": "stdout",
     "output_type": "stream",
     "text": [
      "This non-commercial license of GraphLab Create for academic use is assigned to matthew_lean255@esc.edu and will expire on December 20, 2018.\n"
     ]
    },
    {
     "data": {
      "text/html": [
       "<pre>Downloading https://www2.census.gov/geo/docs/maps-data/data/rel/ua_zcta_rel_10.txt to /var/tmp/graphlab-mrl/27528/19fc84d0-f2a1-441f-86fb-0a41a269e30d.txt</pre>"
      ],
      "text/plain": [
       "Downloading https://www2.census.gov/geo/docs/maps-data/data/rel/ua_zcta_rel_10.txt to /var/tmp/graphlab-mrl/27528/19fc84d0-f2a1-441f-86fb-0a41a269e30d.txt"
      ]
     },
     "metadata": {},
     "output_type": "display_data"
    },
    {
     "data": {
      "text/html": [
       "<pre>Finished parsing file https://www2.census.gov/geo/docs/maps-data/data/rel/ua_zcta_rel_10.txt</pre>"
      ],
      "text/plain": [
       "Finished parsing file https://www2.census.gov/geo/docs/maps-data/data/rel/ua_zcta_rel_10.txt"
      ]
     },
     "metadata": {},
     "output_type": "display_data"
    },
    {
     "data": {
      "text/html": [
       "<pre>Parsing completed. Parsed 100 lines in 0.183605 secs.</pre>"
      ],
      "text/plain": [
       "Parsing completed. Parsed 100 lines in 0.183605 secs."
      ]
     },
     "metadata": {},
     "output_type": "display_data"
    },
    {
     "name": "stdout",
     "output_type": "stream",
     "text": [
      "------------------------------------------------------\n",
      "Inferred types from first 100 line(s) of file as \n",
      "column_type_hints=[int,str,int,int,int,int,int,int,int,int,int,int,int,int,int,float,float,float,float,float,float,float,float]\n",
      "If parsing fails due to incorrect types, you can correct\n",
      "the inferred type list above and pass it to read_csv in\n",
      "the column_type_hints argument\n",
      "------------------------------------------------------\n"
     ]
    },
    {
     "data": {
      "text/html": [
       "<pre>Finished parsing file https://www2.census.gov/geo/docs/maps-data/data/rel/ua_zcta_rel_10.txt</pre>"
      ],
      "text/plain": [
       "Finished parsing file https://www2.census.gov/geo/docs/maps-data/data/rel/ua_zcta_rel_10.txt"
      ]
     },
     "metadata": {},
     "output_type": "display_data"
    },
    {
     "data": {
      "text/html": [
       "<pre>Parsing completed. Parsed 46295 lines in 0.17436 secs.</pre>"
      ],
      "text/plain": [
       "Parsing completed. Parsed 46295 lines in 0.17436 secs."
      ]
     },
     "metadata": {},
     "output_type": "display_data"
    }
   ],
   "source": [
    "msa_zip = SFrame.read_csv('https://www2.census.gov/geo/docs/maps-data/data/rel/ua_zcta_rel_10.txt')\n",
    "msa_zip.rename({'ZCTA5': 'zip_code'})\n",
    "msa_zip['zip_code'] = msa_zip['zip_code'].astype(str)\n",
    "msa_zip = msa_zip.filter_by(99999, 'UA', exclude=True)"
   ]
  },
  {
   "cell_type": "code",
   "execution_count": 3,
   "metadata": {
    "ExecuteTime": {
     "end_time": "2018-04-13T12:31:51.109473Z",
     "start_time": "2018-04-13T12:31:50.879187Z"
    }
   },
   "outputs": [
    {
     "data": {
      "text/html": [
       "<div style=\"max-height:1000px;max-width:1500px;overflow:auto;\"><table frame=\"box\" rules=\"cols\">\n",
       "    <tr>\n",
       "        <th style=\"padding-left: 1em; padding-right: 1em; text-align: center\">UA</th>\n",
       "        <th style=\"padding-left: 1em; padding-right: 1em; text-align: center\">UANAME</th>\n",
       "        <th style=\"padding-left: 1em; padding-right: 1em; text-align: center\">zip_code</th>\n",
       "        <th style=\"padding-left: 1em; padding-right: 1em; text-align: center\">POPPT</th>\n",
       "        <th style=\"padding-left: 1em; padding-right: 1em; text-align: center\">HUPT</th>\n",
       "        <th style=\"padding-left: 1em; padding-right: 1em; text-align: center\">AREAPT</th>\n",
       "        <th style=\"padding-left: 1em; padding-right: 1em; text-align: center\">AREALANDPT</th>\n",
       "        <th style=\"padding-left: 1em; padding-right: 1em; text-align: center\">UAPOP</th>\n",
       "        <th style=\"padding-left: 1em; padding-right: 1em; text-align: center\">UAHU</th>\n",
       "        <th style=\"padding-left: 1em; padding-right: 1em; text-align: center\">UAAREA</th>\n",
       "        <th style=\"padding-left: 1em; padding-right: 1em; text-align: center\">UAAREALAND</th>\n",
       "    </tr>\n",
       "    <tr>\n",
       "        <td style=\"padding-left: 1em; padding-right: 1em; text-align: center; vertical-align: top\">37</td>\n",
       "        <td style=\"padding-left: 1em; padding-right: 1em; text-align: center; vertical-align: top\">Abbeville, LA Urban<br>Cluster ...</td>\n",
       "        <td style=\"padding-left: 1em; padding-right: 1em; text-align: center; vertical-align: top\">70510</td>\n",
       "        <td style=\"padding-left: 1em; padding-right: 1em; text-align: center; vertical-align: top\">15138</td>\n",
       "        <td style=\"padding-left: 1em; padding-right: 1em; text-align: center; vertical-align: top\">6432</td>\n",
       "        <td style=\"padding-left: 1em; padding-right: 1em; text-align: center; vertical-align: top\">22020771</td>\n",
       "        <td style=\"padding-left: 1em; padding-right: 1em; text-align: center; vertical-align: top\">21720274</td>\n",
       "        <td style=\"padding-left: 1em; padding-right: 1em; text-align: center; vertical-align: top\">19824</td>\n",
       "        <td style=\"padding-left: 1em; padding-right: 1em; text-align: center; vertical-align: top\">8460</td>\n",
       "        <td style=\"padding-left: 1em; padding-right: 1em; text-align: center; vertical-align: top\">29523368</td>\n",
       "        <td style=\"padding-left: 1em; padding-right: 1em; text-align: center; vertical-align: top\">29222871</td>\n",
       "    </tr>\n",
       "    <tr>\n",
       "        <td style=\"padding-left: 1em; padding-right: 1em; text-align: center; vertical-align: top\">37</td>\n",
       "        <td style=\"padding-left: 1em; padding-right: 1em; text-align: center; vertical-align: top\">Abbeville, LA Urban<br>Cluster ...</td>\n",
       "        <td style=\"padding-left: 1em; padding-right: 1em; text-align: center; vertical-align: top\">70528</td>\n",
       "        <td style=\"padding-left: 1em; padding-right: 1em; text-align: center; vertical-align: top\">2149</td>\n",
       "        <td style=\"padding-left: 1em; padding-right: 1em; text-align: center; vertical-align: top\">922</td>\n",
       "        <td style=\"padding-left: 1em; padding-right: 1em; text-align: center; vertical-align: top\">3307209</td>\n",
       "        <td style=\"padding-left: 1em; padding-right: 1em; text-align: center; vertical-align: top\">3307209</td>\n",
       "        <td style=\"padding-left: 1em; padding-right: 1em; text-align: center; vertical-align: top\">19824</td>\n",
       "        <td style=\"padding-left: 1em; padding-right: 1em; text-align: center; vertical-align: top\">8460</td>\n",
       "        <td style=\"padding-left: 1em; padding-right: 1em; text-align: center; vertical-align: top\">29523368</td>\n",
       "        <td style=\"padding-left: 1em; padding-right: 1em; text-align: center; vertical-align: top\">29222871</td>\n",
       "    </tr>\n",
       "    <tr>\n",
       "        <td style=\"padding-left: 1em; padding-right: 1em; text-align: center; vertical-align: top\">37</td>\n",
       "        <td style=\"padding-left: 1em; padding-right: 1em; text-align: center; vertical-align: top\">Abbeville, LA Urban<br>Cluster ...</td>\n",
       "        <td style=\"padding-left: 1em; padding-right: 1em; text-align: center; vertical-align: top\">70533</td>\n",
       "        <td style=\"padding-left: 1em; padding-right: 1em; text-align: center; vertical-align: top\">2482</td>\n",
       "        <td style=\"padding-left: 1em; padding-right: 1em; text-align: center; vertical-align: top\">1076</td>\n",
       "        <td style=\"padding-left: 1em; padding-right: 1em; text-align: center; vertical-align: top\">4101398</td>\n",
       "        <td style=\"padding-left: 1em; padding-right: 1em; text-align: center; vertical-align: top\">4101398</td>\n",
       "        <td style=\"padding-left: 1em; padding-right: 1em; text-align: center; vertical-align: top\">19824</td>\n",
       "        <td style=\"padding-left: 1em; padding-right: 1em; text-align: center; vertical-align: top\">8460</td>\n",
       "        <td style=\"padding-left: 1em; padding-right: 1em; text-align: center; vertical-align: top\">29523368</td>\n",
       "        <td style=\"padding-left: 1em; padding-right: 1em; text-align: center; vertical-align: top\">29222871</td>\n",
       "    </tr>\n",
       "    <tr>\n",
       "        <td style=\"padding-left: 1em; padding-right: 1em; text-align: center; vertical-align: top\">37</td>\n",
       "        <td style=\"padding-left: 1em; padding-right: 1em; text-align: center; vertical-align: top\">Abbeville, LA Urban<br>Cluster ...</td>\n",
       "        <td style=\"padding-left: 1em; padding-right: 1em; text-align: center; vertical-align: top\">70560</td>\n",
       "        <td style=\"padding-left: 1em; padding-right: 1em; text-align: center; vertical-align: top\">0</td>\n",
       "        <td style=\"padding-left: 1em; padding-right: 1em; text-align: center; vertical-align: top\">0</td>\n",
       "        <td style=\"padding-left: 1em; padding-right: 1em; text-align: center; vertical-align: top\">9985</td>\n",
       "        <td style=\"padding-left: 1em; padding-right: 1em; text-align: center; vertical-align: top\">9985</td>\n",
       "        <td style=\"padding-left: 1em; padding-right: 1em; text-align: center; vertical-align: top\">19824</td>\n",
       "        <td style=\"padding-left: 1em; padding-right: 1em; text-align: center; vertical-align: top\">8460</td>\n",
       "        <td style=\"padding-left: 1em; padding-right: 1em; text-align: center; vertical-align: top\">29523368</td>\n",
       "        <td style=\"padding-left: 1em; padding-right: 1em; text-align: center; vertical-align: top\">29222871</td>\n",
       "    </tr>\n",
       "    <tr>\n",
       "        <td style=\"padding-left: 1em; padding-right: 1em; text-align: center; vertical-align: top\">37</td>\n",
       "        <td style=\"padding-left: 1em; padding-right: 1em; text-align: center; vertical-align: top\">Abbeville, LA Urban<br>Cluster ...</td>\n",
       "        <td style=\"padding-left: 1em; padding-right: 1em; text-align: center; vertical-align: top\">70575</td>\n",
       "        <td style=\"padding-left: 1em; padding-right: 1em; text-align: center; vertical-align: top\">55</td>\n",
       "        <td style=\"padding-left: 1em; padding-right: 1em; text-align: center; vertical-align: top\">30</td>\n",
       "        <td style=\"padding-left: 1em; padding-right: 1em; text-align: center; vertical-align: top\">84005</td>\n",
       "        <td style=\"padding-left: 1em; padding-right: 1em; text-align: center; vertical-align: top\">84005</td>\n",
       "        <td style=\"padding-left: 1em; padding-right: 1em; text-align: center; vertical-align: top\">19824</td>\n",
       "        <td style=\"padding-left: 1em; padding-right: 1em; text-align: center; vertical-align: top\">8460</td>\n",
       "        <td style=\"padding-left: 1em; padding-right: 1em; text-align: center; vertical-align: top\">29523368</td>\n",
       "        <td style=\"padding-left: 1em; padding-right: 1em; text-align: center; vertical-align: top\">29222871</td>\n",
       "    </tr>\n",
       "    <tr>\n",
       "        <td style=\"padding-left: 1em; padding-right: 1em; text-align: center; vertical-align: top\">64</td>\n",
       "        <td style=\"padding-left: 1em; padding-right: 1em; text-align: center; vertical-align: top\">Abbeville, SC Urban<br>Cluster ...</td>\n",
       "        <td style=\"padding-left: 1em; padding-right: 1em; text-align: center; vertical-align: top\">29620</td>\n",
       "        <td style=\"padding-left: 1em; padding-right: 1em; text-align: center; vertical-align: top\">5243</td>\n",
       "        <td style=\"padding-left: 1em; padding-right: 1em; text-align: center; vertical-align: top\">2578</td>\n",
       "        <td style=\"padding-left: 1em; padding-right: 1em; text-align: center; vertical-align: top\">11334983</td>\n",
       "        <td style=\"padding-left: 1em; padding-right: 1em; text-align: center; vertical-align: top\">11315197</td>\n",
       "        <td style=\"padding-left: 1em; padding-right: 1em; text-align: center; vertical-align: top\">5243</td>\n",
       "        <td style=\"padding-left: 1em; padding-right: 1em; text-align: center; vertical-align: top\">2578</td>\n",
       "        <td style=\"padding-left: 1em; padding-right: 1em; text-align: center; vertical-align: top\">11334983</td>\n",
       "        <td style=\"padding-left: 1em; padding-right: 1em; text-align: center; vertical-align: top\">11315197</td>\n",
       "    </tr>\n",
       "    <tr>\n",
       "        <td style=\"padding-left: 1em; padding-right: 1em; text-align: center; vertical-align: top\">91</td>\n",
       "        <td style=\"padding-left: 1em; padding-right: 1em; text-align: center; vertical-align: top\">Abbotsford, WI Urban<br>Cluster ...</td>\n",
       "        <td style=\"padding-left: 1em; padding-right: 1em; text-align: center; vertical-align: top\">54405</td>\n",
       "        <td style=\"padding-left: 1em; padding-right: 1em; text-align: center; vertical-align: top\">2138</td>\n",
       "        <td style=\"padding-left: 1em; padding-right: 1em; text-align: center; vertical-align: top\">880</td>\n",
       "        <td style=\"padding-left: 1em; padding-right: 1em; text-align: center; vertical-align: top\">2382495</td>\n",
       "        <td style=\"padding-left: 1em; padding-right: 1em; text-align: center; vertical-align: top\">2382495</td>\n",
       "        <td style=\"padding-left: 1em; padding-right: 1em; text-align: center; vertical-align: top\">3966</td>\n",
       "        <td style=\"padding-left: 1em; padding-right: 1em; text-align: center; vertical-align: top\">1616</td>\n",
       "        <td style=\"padding-left: 1em; padding-right: 1em; text-align: center; vertical-align: top\">5376662</td>\n",
       "        <td style=\"padding-left: 1em; padding-right: 1em; text-align: center; vertical-align: top\">5363441</td>\n",
       "    </tr>\n",
       "    <tr>\n",
       "        <td style=\"padding-left: 1em; padding-right: 1em; text-align: center; vertical-align: top\">91</td>\n",
       "        <td style=\"padding-left: 1em; padding-right: 1em; text-align: center; vertical-align: top\">Abbotsford, WI Urban<br>Cluster ...</td>\n",
       "        <td style=\"padding-left: 1em; padding-right: 1em; text-align: center; vertical-align: top\">54421</td>\n",
       "        <td style=\"padding-left: 1em; padding-right: 1em; text-align: center; vertical-align: top\">1828</td>\n",
       "        <td style=\"padding-left: 1em; padding-right: 1em; text-align: center; vertical-align: top\">736</td>\n",
       "        <td style=\"padding-left: 1em; padding-right: 1em; text-align: center; vertical-align: top\">2994167</td>\n",
       "        <td style=\"padding-left: 1em; padding-right: 1em; text-align: center; vertical-align: top\">2980946</td>\n",
       "        <td style=\"padding-left: 1em; padding-right: 1em; text-align: center; vertical-align: top\">3966</td>\n",
       "        <td style=\"padding-left: 1em; padding-right: 1em; text-align: center; vertical-align: top\">1616</td>\n",
       "        <td style=\"padding-left: 1em; padding-right: 1em; text-align: center; vertical-align: top\">5376662</td>\n",
       "        <td style=\"padding-left: 1em; padding-right: 1em; text-align: center; vertical-align: top\">5363441</td>\n",
       "    </tr>\n",
       "    <tr>\n",
       "        <td style=\"padding-left: 1em; padding-right: 1em; text-align: center; vertical-align: top\">118</td>\n",
       "        <td style=\"padding-left: 1em; padding-right: 1em; text-align: center; vertical-align: top\">Aberdeen, MS Urban<br>Cluster ...</td>\n",
       "        <td style=\"padding-left: 1em; padding-right: 1em; text-align: center; vertical-align: top\">39730</td>\n",
       "        <td style=\"padding-left: 1em; padding-right: 1em; text-align: center; vertical-align: top\">4666</td>\n",
       "        <td style=\"padding-left: 1em; padding-right: 1em; text-align: center; vertical-align: top\">2050</td>\n",
       "        <td style=\"padding-left: 1em; padding-right: 1em; text-align: center; vertical-align: top\">7469348</td>\n",
       "        <td style=\"padding-left: 1em; padding-right: 1em; text-align: center; vertical-align: top\">7416616</td>\n",
       "        <td style=\"padding-left: 1em; padding-right: 1em; text-align: center; vertical-align: top\">4666</td>\n",
       "        <td style=\"padding-left: 1em; padding-right: 1em; text-align: center; vertical-align: top\">2050</td>\n",
       "        <td style=\"padding-left: 1em; padding-right: 1em; text-align: center; vertical-align: top\">7469348</td>\n",
       "        <td style=\"padding-left: 1em; padding-right: 1em; text-align: center; vertical-align: top\">7416616</td>\n",
       "    </tr>\n",
       "    <tr>\n",
       "        <td style=\"padding-left: 1em; padding-right: 1em; text-align: center; vertical-align: top\">145</td>\n",
       "        <td style=\"padding-left: 1em; padding-right: 1em; text-align: center; vertical-align: top\">Aberdeen, SD Urban<br>Cluster ...</td>\n",
       "        <td style=\"padding-left: 1em; padding-right: 1em; text-align: center; vertical-align: top\">57401</td>\n",
       "        <td style=\"padding-left: 1em; padding-right: 1em; text-align: center; vertical-align: top\">25977</td>\n",
       "        <td style=\"padding-left: 1em; padding-right: 1em; text-align: center; vertical-align: top\">12114</td>\n",
       "        <td style=\"padding-left: 1em; padding-right: 1em; text-align: center; vertical-align: top\">33250044</td>\n",
       "        <td style=\"padding-left: 1em; padding-right: 1em; text-align: center; vertical-align: top\">33002447</td>\n",
       "        <td style=\"padding-left: 1em; padding-right: 1em; text-align: center; vertical-align: top\">25977</td>\n",
       "        <td style=\"padding-left: 1em; padding-right: 1em; text-align: center; vertical-align: top\">12114</td>\n",
       "        <td style=\"padding-left: 1em; padding-right: 1em; text-align: center; vertical-align: top\">33250044</td>\n",
       "        <td style=\"padding-left: 1em; padding-right: 1em; text-align: center; vertical-align: top\">33002447</td>\n",
       "    </tr>\n",
       "</table>\n",
       "<table frame=\"box\" rules=\"cols\">\n",
       "    <tr>\n",
       "        <th style=\"padding-left: 1em; padding-right: 1em; text-align: center\">ZPOP</th>\n",
       "        <th style=\"padding-left: 1em; padding-right: 1em; text-align: center\">ZHU</th>\n",
       "        <th style=\"padding-left: 1em; padding-right: 1em; text-align: center\">ZAREA</th>\n",
       "        <th style=\"padding-left: 1em; padding-right: 1em; text-align: center\">ZAREALAND</th>\n",
       "        <th style=\"padding-left: 1em; padding-right: 1em; text-align: center\">UAPOPPCT</th>\n",
       "        <th style=\"padding-left: 1em; padding-right: 1em; text-align: center\">UAHUPCT</th>\n",
       "        <th style=\"padding-left: 1em; padding-right: 1em; text-align: center\">UAAREAPCT</th>\n",
       "        <th style=\"padding-left: 1em; padding-right: 1em; text-align: center\">UAAREALANDPCT</th>\n",
       "        <th style=\"padding-left: 1em; padding-right: 1em; text-align: center\">ZPOPPCT</th>\n",
       "        <th style=\"padding-left: 1em; padding-right: 1em; text-align: center\">ZHUPCT</th>\n",
       "        <th style=\"padding-left: 1em; padding-right: 1em; text-align: center\">ZAREAPCT</th>\n",
       "    </tr>\n",
       "    <tr>\n",
       "        <td style=\"padding-left: 1em; padding-right: 1em; text-align: center; vertical-align: top\">25313</td>\n",
       "        <td style=\"padding-left: 1em; padding-right: 1em; text-align: center; vertical-align: top\">10694</td>\n",
       "        <td style=\"padding-left: 1em; padding-right: 1em; text-align: center; vertical-align: top\">604692442</td>\n",
       "        <td style=\"padding-left: 1em; padding-right: 1em; text-align: center; vertical-align: top\">596312401</td>\n",
       "        <td style=\"padding-left: 1em; padding-right: 1em; text-align: center; vertical-align: top\">76.36</td>\n",
       "        <td style=\"padding-left: 1em; padding-right: 1em; text-align: center; vertical-align: top\">76.03</td>\n",
       "        <td style=\"padding-left: 1em; padding-right: 1em; text-align: center; vertical-align: top\">74.59</td>\n",
       "        <td style=\"padding-left: 1em; padding-right: 1em; text-align: center; vertical-align: top\">74.33</td>\n",
       "        <td style=\"padding-left: 1em; padding-right: 1em; text-align: center; vertical-align: top\">59.8</td>\n",
       "        <td style=\"padding-left: 1em; padding-right: 1em; text-align: center; vertical-align: top\">60.15</td>\n",
       "        <td style=\"padding-left: 1em; padding-right: 1em; text-align: center; vertical-align: top\">3.64</td>\n",
       "    </tr>\n",
       "    <tr>\n",
       "        <td style=\"padding-left: 1em; padding-right: 1em; text-align: center; vertical-align: top\">2333</td>\n",
       "        <td style=\"padding-left: 1em; padding-right: 1em; text-align: center; vertical-align: top\">1001</td>\n",
       "        <td style=\"padding-left: 1em; padding-right: 1em; text-align: center; vertical-align: top\">11592738</td>\n",
       "        <td style=\"padding-left: 1em; padding-right: 1em; text-align: center; vertical-align: top\">11592738</td>\n",
       "        <td style=\"padding-left: 1em; padding-right: 1em; text-align: center; vertical-align: top\">10.84</td>\n",
       "        <td style=\"padding-left: 1em; padding-right: 1em; text-align: center; vertical-align: top\">10.9</td>\n",
       "        <td style=\"padding-left: 1em; padding-right: 1em; text-align: center; vertical-align: top\">11.2</td>\n",
       "        <td style=\"padding-left: 1em; padding-right: 1em; text-align: center; vertical-align: top\">11.32</td>\n",
       "        <td style=\"padding-left: 1em; padding-right: 1em; text-align: center; vertical-align: top\">92.11</td>\n",
       "        <td style=\"padding-left: 1em; padding-right: 1em; text-align: center; vertical-align: top\">92.11</td>\n",
       "        <td style=\"padding-left: 1em; padding-right: 1em; text-align: center; vertical-align: top\">28.53</td>\n",
       "    </tr>\n",
       "    <tr>\n",
       "        <td style=\"padding-left: 1em; padding-right: 1em; text-align: center; vertical-align: top\">7385</td>\n",
       "        <td style=\"padding-left: 1em; padding-right: 1em; text-align: center; vertical-align: top\">3078</td>\n",
       "        <td style=\"padding-left: 1em; padding-right: 1em; text-align: center; vertical-align: top\">208062663</td>\n",
       "        <td style=\"padding-left: 1em; padding-right: 1em; text-align: center; vertical-align: top\">203439443</td>\n",
       "        <td style=\"padding-left: 1em; padding-right: 1em; text-align: center; vertical-align: top\">12.52</td>\n",
       "        <td style=\"padding-left: 1em; padding-right: 1em; text-align: center; vertical-align: top\">12.72</td>\n",
       "        <td style=\"padding-left: 1em; padding-right: 1em; text-align: center; vertical-align: top\">13.89</td>\n",
       "        <td style=\"padding-left: 1em; padding-right: 1em; text-align: center; vertical-align: top\">14.03</td>\n",
       "        <td style=\"padding-left: 1em; padding-right: 1em; text-align: center; vertical-align: top\">33.61</td>\n",
       "        <td style=\"padding-left: 1em; padding-right: 1em; text-align: center; vertical-align: top\">34.96</td>\n",
       "        <td style=\"padding-left: 1em; padding-right: 1em; text-align: center; vertical-align: top\">1.97</td>\n",
       "    </tr>\n",
       "    <tr>\n",
       "        <td style=\"padding-left: 1em; padding-right: 1em; text-align: center; vertical-align: top\">42022</td>\n",
       "        <td style=\"padding-left: 1em; padding-right: 1em; text-align: center; vertical-align: top\">17019</td>\n",
       "        <td style=\"padding-left: 1em; padding-right: 1em; text-align: center; vertical-align: top\">552332551</td>\n",
       "        <td style=\"padding-left: 1em; padding-right: 1em; text-align: center; vertical-align: top\">522463827</td>\n",
       "        <td style=\"padding-left: 1em; padding-right: 1em; text-align: center; vertical-align: top\">0.0</td>\n",
       "        <td style=\"padding-left: 1em; padding-right: 1em; text-align: center; vertical-align: top\">0.0</td>\n",
       "        <td style=\"padding-left: 1em; padding-right: 1em; text-align: center; vertical-align: top\">0.03</td>\n",
       "        <td style=\"padding-left: 1em; padding-right: 1em; text-align: center; vertical-align: top\">0.03</td>\n",
       "        <td style=\"padding-left: 1em; padding-right: 1em; text-align: center; vertical-align: top\">0.0</td>\n",
       "        <td style=\"padding-left: 1em; padding-right: 1em; text-align: center; vertical-align: top\">0.0</td>\n",
       "        <td style=\"padding-left: 1em; padding-right: 1em; text-align: center; vertical-align: top\">0.0</td>\n",
       "    </tr>\n",
       "    <tr>\n",
       "        <td style=\"padding-left: 1em; padding-right: 1em; text-align: center; vertical-align: top\">55</td>\n",
       "        <td style=\"padding-left: 1em; padding-right: 1em; text-align: center; vertical-align: top\">30</td>\n",
       "        <td style=\"padding-left: 1em; padding-right: 1em; text-align: center; vertical-align: top\">84005</td>\n",
       "        <td style=\"padding-left: 1em; padding-right: 1em; text-align: center; vertical-align: top\">84005</td>\n",
       "        <td style=\"padding-left: 1em; padding-right: 1em; text-align: center; vertical-align: top\">0.28</td>\n",
       "        <td style=\"padding-left: 1em; padding-right: 1em; text-align: center; vertical-align: top\">0.35</td>\n",
       "        <td style=\"padding-left: 1em; padding-right: 1em; text-align: center; vertical-align: top\">0.28</td>\n",
       "        <td style=\"padding-left: 1em; padding-right: 1em; text-align: center; vertical-align: top\">0.29</td>\n",
       "        <td style=\"padding-left: 1em; padding-right: 1em; text-align: center; vertical-align: top\">100.0</td>\n",
       "        <td style=\"padding-left: 1em; padding-right: 1em; text-align: center; vertical-align: top\">100.0</td>\n",
       "        <td style=\"padding-left: 1em; padding-right: 1em; text-align: center; vertical-align: top\">100.0</td>\n",
       "    </tr>\n",
       "    <tr>\n",
       "        <td style=\"padding-left: 1em; padding-right: 1em; text-align: center; vertical-align: top\">12934</td>\n",
       "        <td style=\"padding-left: 1em; padding-right: 1em; text-align: center; vertical-align: top\">6272</td>\n",
       "        <td style=\"padding-left: 1em; padding-right: 1em; text-align: center; vertical-align: top\">653936269</td>\n",
       "        <td style=\"padding-left: 1em; padding-right: 1em; text-align: center; vertical-align: top\">649110765</td>\n",
       "        <td style=\"padding-left: 1em; padding-right: 1em; text-align: center; vertical-align: top\">100.0</td>\n",
       "        <td style=\"padding-left: 1em; padding-right: 1em; text-align: center; vertical-align: top\">100.0</td>\n",
       "        <td style=\"padding-left: 1em; padding-right: 1em; text-align: center; vertical-align: top\">100.0</td>\n",
       "        <td style=\"padding-left: 1em; padding-right: 1em; text-align: center; vertical-align: top\">100.0</td>\n",
       "        <td style=\"padding-left: 1em; padding-right: 1em; text-align: center; vertical-align: top\">40.54</td>\n",
       "        <td style=\"padding-left: 1em; padding-right: 1em; text-align: center; vertical-align: top\">41.1</td>\n",
       "        <td style=\"padding-left: 1em; padding-right: 1em; text-align: center; vertical-align: top\">1.73</td>\n",
       "    </tr>\n",
       "    <tr>\n",
       "        <td style=\"padding-left: 1em; padding-right: 1em; text-align: center; vertical-align: top\">3032</td>\n",
       "        <td style=\"padding-left: 1em; padding-right: 1em; text-align: center; vertical-align: top\">1205</td>\n",
       "        <td style=\"padding-left: 1em; padding-right: 1em; text-align: center; vertical-align: top\">77490828</td>\n",
       "        <td style=\"padding-left: 1em; padding-right: 1em; text-align: center; vertical-align: top\">77477291</td>\n",
       "        <td style=\"padding-left: 1em; padding-right: 1em; text-align: center; vertical-align: top\">53.91</td>\n",
       "        <td style=\"padding-left: 1em; padding-right: 1em; text-align: center; vertical-align: top\">54.46</td>\n",
       "        <td style=\"padding-left: 1em; padding-right: 1em; text-align: center; vertical-align: top\">44.31</td>\n",
       "        <td style=\"padding-left: 1em; padding-right: 1em; text-align: center; vertical-align: top\">44.42</td>\n",
       "        <td style=\"padding-left: 1em; padding-right: 1em; text-align: center; vertical-align: top\">70.51</td>\n",
       "        <td style=\"padding-left: 1em; padding-right: 1em; text-align: center; vertical-align: top\">73.03</td>\n",
       "        <td style=\"padding-left: 1em; padding-right: 1em; text-align: center; vertical-align: top\">3.07</td>\n",
       "    </tr>\n",
       "    <tr>\n",
       "        <td style=\"padding-left: 1em; padding-right: 1em; text-align: center; vertical-align: top\">3455</td>\n",
       "        <td style=\"padding-left: 1em; padding-right: 1em; text-align: center; vertical-align: top\">1316</td>\n",
       "        <td style=\"padding-left: 1em; padding-right: 1em; text-align: center; vertical-align: top\">183730539</td>\n",
       "        <td style=\"padding-left: 1em; padding-right: 1em; text-align: center; vertical-align: top\">183461522</td>\n",
       "        <td style=\"padding-left: 1em; padding-right: 1em; text-align: center; vertical-align: top\">46.09</td>\n",
       "        <td style=\"padding-left: 1em; padding-right: 1em; text-align: center; vertical-align: top\">45.54</td>\n",
       "        <td style=\"padding-left: 1em; padding-right: 1em; text-align: center; vertical-align: top\">55.69</td>\n",
       "        <td style=\"padding-left: 1em; padding-right: 1em; text-align: center; vertical-align: top\">55.58</td>\n",
       "        <td style=\"padding-left: 1em; padding-right: 1em; text-align: center; vertical-align: top\">52.91</td>\n",
       "        <td style=\"padding-left: 1em; padding-right: 1em; text-align: center; vertical-align: top\">55.93</td>\n",
       "        <td style=\"padding-left: 1em; padding-right: 1em; text-align: center; vertical-align: top\">1.63</td>\n",
       "    </tr>\n",
       "    <tr>\n",
       "        <td style=\"padding-left: 1em; padding-right: 1em; text-align: center; vertical-align: top\">11805</td>\n",
       "        <td style=\"padding-left: 1em; padding-right: 1em; text-align: center; vertical-align: top\">5208</td>\n",
       "        <td style=\"padding-left: 1em; padding-right: 1em; text-align: center; vertical-align: top\">655860027</td>\n",
       "        <td style=\"padding-left: 1em; padding-right: 1em; text-align: center; vertical-align: top\">652127798</td>\n",
       "        <td style=\"padding-left: 1em; padding-right: 1em; text-align: center; vertical-align: top\">100.0</td>\n",
       "        <td style=\"padding-left: 1em; padding-right: 1em; text-align: center; vertical-align: top\">100.0</td>\n",
       "        <td style=\"padding-left: 1em; padding-right: 1em; text-align: center; vertical-align: top\">100.0</td>\n",
       "        <td style=\"padding-left: 1em; padding-right: 1em; text-align: center; vertical-align: top\">100.0</td>\n",
       "        <td style=\"padding-left: 1em; padding-right: 1em; text-align: center; vertical-align: top\">39.53</td>\n",
       "        <td style=\"padding-left: 1em; padding-right: 1em; text-align: center; vertical-align: top\">39.36</td>\n",
       "        <td style=\"padding-left: 1em; padding-right: 1em; text-align: center; vertical-align: top\">1.14</td>\n",
       "    </tr>\n",
       "    <tr>\n",
       "        <td style=\"padding-left: 1em; padding-right: 1em; text-align: center; vertical-align: top\">30061</td>\n",
       "        <td style=\"padding-left: 1em; padding-right: 1em; text-align: center; vertical-align: top\">13781</td>\n",
       "        <td style=\"padding-left: 1em; padding-right: 1em; text-align: center; vertical-align: top\">756420150</td>\n",
       "        <td style=\"padding-left: 1em; padding-right: 1em; text-align: center; vertical-align: top\">752483831</td>\n",
       "        <td style=\"padding-left: 1em; padding-right: 1em; text-align: center; vertical-align: top\">100.0</td>\n",
       "        <td style=\"padding-left: 1em; padding-right: 1em; text-align: center; vertical-align: top\">100.0</td>\n",
       "        <td style=\"padding-left: 1em; padding-right: 1em; text-align: center; vertical-align: top\">100.0</td>\n",
       "        <td style=\"padding-left: 1em; padding-right: 1em; text-align: center; vertical-align: top\">100.0</td>\n",
       "        <td style=\"padding-left: 1em; padding-right: 1em; text-align: center; vertical-align: top\">86.41</td>\n",
       "        <td style=\"padding-left: 1em; padding-right: 1em; text-align: center; vertical-align: top\">87.9</td>\n",
       "        <td style=\"padding-left: 1em; padding-right: 1em; text-align: center; vertical-align: top\">4.4</td>\n",
       "    </tr>\n",
       "</table>\n",
       "<table frame=\"box\" rules=\"cols\">\n",
       "    <tr>\n",
       "        <th style=\"padding-left: 1em; padding-right: 1em; text-align: center\">ZAREALANDPCT</th>\n",
       "    </tr>\n",
       "    <tr>\n",
       "        <td style=\"padding-left: 1em; padding-right: 1em; text-align: center; vertical-align: top\">3.64</td>\n",
       "    </tr>\n",
       "    <tr>\n",
       "        <td style=\"padding-left: 1em; padding-right: 1em; text-align: center; vertical-align: top\">28.53</td>\n",
       "    </tr>\n",
       "    <tr>\n",
       "        <td style=\"padding-left: 1em; padding-right: 1em; text-align: center; vertical-align: top\">2.02</td>\n",
       "    </tr>\n",
       "    <tr>\n",
       "        <td style=\"padding-left: 1em; padding-right: 1em; text-align: center; vertical-align: top\">0.0</td>\n",
       "    </tr>\n",
       "    <tr>\n",
       "        <td style=\"padding-left: 1em; padding-right: 1em; text-align: center; vertical-align: top\">100.0</td>\n",
       "    </tr>\n",
       "    <tr>\n",
       "        <td style=\"padding-left: 1em; padding-right: 1em; text-align: center; vertical-align: top\">1.74</td>\n",
       "    </tr>\n",
       "    <tr>\n",
       "        <td style=\"padding-left: 1em; padding-right: 1em; text-align: center; vertical-align: top\">3.08</td>\n",
       "    </tr>\n",
       "    <tr>\n",
       "        <td style=\"padding-left: 1em; padding-right: 1em; text-align: center; vertical-align: top\">1.62</td>\n",
       "    </tr>\n",
       "    <tr>\n",
       "        <td style=\"padding-left: 1em; padding-right: 1em; text-align: center; vertical-align: top\">1.14</td>\n",
       "    </tr>\n",
       "    <tr>\n",
       "        <td style=\"padding-left: 1em; padding-right: 1em; text-align: center; vertical-align: top\">4.39</td>\n",
       "    </tr>\n",
       "</table>\n",
       "[? rows x 23 columns]<br/>Note: Only the head of the SFrame is printed. This SFrame is lazily evaluated.<br/>You can use sf.materialize() to force materialization.\n",
       "</div>"
      ],
      "text/plain": [
       "Columns:\n",
       "\tUA\tint\n",
       "\tUANAME\tstr\n",
       "\tzip_code\tstr\n",
       "\tPOPPT\tint\n",
       "\tHUPT\tint\n",
       "\tAREAPT\tint\n",
       "\tAREALANDPT\tint\n",
       "\tUAPOP\tint\n",
       "\tUAHU\tint\n",
       "\tUAAREA\tint\n",
       "\tUAAREALAND\tint\n",
       "\tZPOP\tint\n",
       "\tZHU\tint\n",
       "\tZAREA\tint\n",
       "\tZAREALAND\tint\n",
       "\tUAPOPPCT\tfloat\n",
       "\tUAHUPCT\tfloat\n",
       "\tUAAREAPCT\tfloat\n",
       "\tUAAREALANDPCT\tfloat\n",
       "\tZPOPPCT\tfloat\n",
       "\tZHUPCT\tfloat\n",
       "\tZAREAPCT\tfloat\n",
       "\tZAREALANDPCT\tfloat\n",
       "\n",
       "Rows: Unknown\n",
       "\n",
       "Data:\n",
       "+-----+------------------------------+----------+-------+-------+----------+\n",
       "|  UA |            UANAME            | zip_code | POPPT |  HUPT |  AREAPT  |\n",
       "+-----+------------------------------+----------+-------+-------+----------+\n",
       "|  37 | Abbeville, LA Urban Cluster  |  70510   | 15138 |  6432 | 22020771 |\n",
       "|  37 | Abbeville, LA Urban Cluster  |  70528   |  2149 |  922  | 3307209  |\n",
       "|  37 | Abbeville, LA Urban Cluster  |  70533   |  2482 |  1076 | 4101398  |\n",
       "|  37 | Abbeville, LA Urban Cluster  |  70560   |   0   |   0   |   9985   |\n",
       "|  37 | Abbeville, LA Urban Cluster  |  70575   |   55  |   30  |  84005   |\n",
       "|  64 | Abbeville, SC Urban Cluster  |  29620   |  5243 |  2578 | 11334983 |\n",
       "|  91 | Abbotsford, WI Urban Cluster |  54405   |  2138 |  880  | 2382495  |\n",
       "|  91 | Abbotsford, WI Urban Cluster |  54421   |  1828 |  736  | 2994167  |\n",
       "| 118 |  Aberdeen, MS Urban Cluster  |  39730   |  4666 |  2050 | 7469348  |\n",
       "| 145 |  Aberdeen, SD Urban Cluster  |  57401   | 25977 | 12114 | 33250044 |\n",
       "+-----+------------------------------+----------+-------+-------+----------+\n",
       "+------------+-------+-------+----------+------------+-------+-------+-----------+\n",
       "| AREALANDPT | UAPOP |  UAHU |  UAAREA  | UAAREALAND |  ZPOP |  ZHU  |   ZAREA   |\n",
       "+------------+-------+-------+----------+------------+-------+-------+-----------+\n",
       "|  21720274  | 19824 |  8460 | 29523368 |  29222871  | 25313 | 10694 | 604692442 |\n",
       "|  3307209   | 19824 |  8460 | 29523368 |  29222871  |  2333 |  1001 |  11592738 |\n",
       "|  4101398   | 19824 |  8460 | 29523368 |  29222871  |  7385 |  3078 | 208062663 |\n",
       "|    9985    | 19824 |  8460 | 29523368 |  29222871  | 42022 | 17019 | 552332551 |\n",
       "|   84005    | 19824 |  8460 | 29523368 |  29222871  |   55  |   30  |   84005   |\n",
       "|  11315197  |  5243 |  2578 | 11334983 |  11315197  | 12934 |  6272 | 653936269 |\n",
       "|  2382495   |  3966 |  1616 | 5376662  |  5363441   |  3032 |  1205 |  77490828 |\n",
       "|  2980946   |  3966 |  1616 | 5376662  |  5363441   |  3455 |  1316 | 183730539 |\n",
       "|  7416616   |  4666 |  2050 | 7469348  |  7416616   | 11805 |  5208 | 655860027 |\n",
       "|  33002447  | 25977 | 12114 | 33250044 |  33002447  | 30061 | 13781 | 756420150 |\n",
       "+------------+-------+-------+----------+------------+-------+-------+-----------+\n",
       "+-----------+----------+---------+-----------+---------------+---------+-----+\n",
       "| ZAREALAND | UAPOPPCT | UAHUPCT | UAAREAPCT | UAAREALANDPCT | ZPOPPCT | ... |\n",
       "+-----------+----------+---------+-----------+---------------+---------+-----+\n",
       "| 596312401 |  76.36   |  76.03  |   74.59   |     74.33     |   59.8  | ... |\n",
       "|  11592738 |  10.84   |   10.9  |    11.2   |     11.32     |  92.11  | ... |\n",
       "| 203439443 |  12.52   |  12.72  |   13.89   |     14.03     |  33.61  | ... |\n",
       "| 522463827 |   0.0    |   0.0   |    0.03   |      0.03     |   0.0   | ... |\n",
       "|   84005   |   0.28   |   0.35  |    0.28   |      0.29     |  100.0  | ... |\n",
       "| 649110765 |  100.0   |  100.0  |   100.0   |     100.0     |  40.54  | ... |\n",
       "|  77477291 |  53.91   |  54.46  |   44.31   |     44.42     |  70.51  | ... |\n",
       "| 183461522 |  46.09   |  45.54  |   55.69   |     55.58     |  52.91  | ... |\n",
       "| 652127798 |  100.0   |  100.0  |   100.0   |     100.0     |  39.53  | ... |\n",
       "| 752483831 |  100.0   |  100.0  |   100.0   |     100.0     |  86.41  | ... |\n",
       "+-----------+----------+---------+-----------+---------------+---------+-----+\n",
       "[? rows x 23 columns]\n",
       "Note: Only the head of the SFrame is printed. This SFrame is lazily evaluated.\n",
       "You can use sf.materialize() to force materialization."
      ]
     },
     "execution_count": 3,
     "metadata": {},
     "output_type": "execute_result"
    }
   ],
   "source": [
    "msa_zip"
   ]
  },
  {
   "cell_type": "code",
   "execution_count": 11,
   "metadata": {},
   "outputs": [
    {
     "data": {
      "text/plain": [
       "17557"
      ]
     },
     "execution_count": 11,
     "metadata": {},
     "output_type": "execute_result"
    }
   ],
   "source": [
    "len(msa_zip['zip_code'])"
   ]
  },
  {
   "cell_type": "code",
   "execution_count": 17,
   "metadata": {},
   "outputs": [
    {
     "data": {
      "text/plain": [
       "54"
      ]
     },
     "execution_count": 17,
     "metadata": {},
     "output_type": "execute_result"
    }
   ],
   "source": [
    "len(msa_zip[msa_zip['UA'] == 970]['zip_code'])"
   ]
  },
  {
   "cell_type": "code",
   "execution_count": 16,
   "metadata": {},
   "outputs": [
    {
     "data": {
      "text/plain": [
       "dtype: str\n",
       "Rows: 54\n",
       "['12056', '12303', '12047', '12210', '12302', '12305', '12118', '12204', '12084', '12033', '12054', '12027', '12198', '12207', '12180', '12188', '12206', '12309', '12019', '12211', '12018', '12196', '12186', '12208', '12209', '12077', '12144', '12140', '12202', '12148', '12203', '12008', '12205', '12061', '12063', '12307', '12150', '12222', '12065', '12123', '12085', '12308', '12183', '12110', '12159', '12009', '12154', '12158', '12170', '12304', '12182', '12151', '12306', '12189']"
      ]
     },
     "execution_count": 16,
     "metadata": {},
     "output_type": "execute_result"
    }
   ],
   "source": [
    "msa_zip[msa_zip['UA'] == 970]['zip_code'].unique()"
   ]
  },
  {
   "cell_type": "code",
   "execution_count": 12,
   "metadata": {},
   "outputs": [
    {
     "ename": "AttributeError",
     "evalue": "'SArray' object has no attribute 'aggregate'",
     "output_type": "error",
     "traceback": [
      "\u001b[0;31m---------------------------------------------------------------------------\u001b[0m",
      "\u001b[0;31mAttributeError\u001b[0m                            Traceback (most recent call last)",
      "\u001b[0;32m<ipython-input-12-7fd0aa699e00>\u001b[0m in \u001b[0;36m<module>\u001b[0;34m()\u001b[0m\n\u001b[0;32m----> 1\u001b[0;31m \u001b[0mmsa_zip\u001b[0m\u001b[0;34m[\u001b[0m\u001b[0;34m'zip_code'\u001b[0m\u001b[0;34m]\u001b[0m\u001b[0;34m.\u001b[0m\u001b[0munique\u001b[0m\u001b[0;34m(\u001b[0m\u001b[0;34m)\u001b[0m\u001b[0;34m.\u001b[0m\u001b[0maggregate\u001b[0m\u001b[0;34m.\u001b[0m\u001b[0mCOUNT\u001b[0m\u001b[0;34m(\u001b[0m\u001b[0;34m)\u001b[0m\u001b[0;34m\u001b[0m\u001b[0m\n\u001b[0m",
      "\u001b[0;31mAttributeError\u001b[0m: 'SArray' object has no attribute 'aggregate'"
     ]
    }
   ],
   "source": [
    "msa_zip['zip_code'].unique().aggregate.COUNT()"
   ]
  },
  {
   "cell_type": "code",
   "execution_count": 4,
   "metadata": {},
   "outputs": [],
   "source": [
    "gl.set_runtime_config('GRAPHLAB_SFRAME_JOIN_BUFFER_NUM_CELLS',2048576000)\n",
    "sfnmsa = sfninety.join(msa_zip['UA','zip_code'], on='zip_code', how='left')"
   ]
  },
  {
   "cell_type": "code",
   "execution_count": 23,
   "metadata": {},
   "outputs": [],
   "source": [
    "sfncpd = sfnmsa[sfnmsa['UA'] == 970]"
   ]
  },
  {
   "cell_type": "code",
   "execution_count": null,
   "metadata": {},
   "outputs": [],
   "source": [
    "sfncpd['mission'] = sfncpd['return_info'].apply(lambda x: )"
   ]
  },
  {
   "cell_type": "code",
   "execution_count": 38,
   "metadata": {},
   "outputs": [
    {
     "ename": "AttributeError",
     "evalue": "'str' object has no attribute 'apply'",
     "output_type": "error",
     "traceback": [
      "\u001b[0;31m---------------------------------------------------------------------------\u001b[0m",
      "\u001b[0;31mAttributeError\u001b[0m                            Traceback (most recent call last)",
      "\u001b[0;32m<ipython-input-38-8ff3512df2b1>\u001b[0m in \u001b[0;36m<module>\u001b[0;34m()\u001b[0m\n\u001b[0;32m----> 1\u001b[0;31m \u001b[0msfncpd\u001b[0m\u001b[0;34m.\u001b[0m\u001b[0mhead\u001b[0m\u001b[0;34m(\u001b[0m\u001b[0;36m1\u001b[0m\u001b[0;34m)\u001b[0m\u001b[0;34m[\u001b[0m\u001b[0;34m'return_info'\u001b[0m\u001b[0;34m]\u001b[0m\u001b[0;34m[\u001b[0m\u001b[0;36m0\u001b[0m\u001b[0;34m]\u001b[0m\u001b[0;34m.\u001b[0m\u001b[0mapply\u001b[0m\u001b[0;34m(\u001b[0m\u001b[0;32mlambda\u001b[0m \u001b[0mx\u001b[0m\u001b[0;34m:\u001b[0m \u001b[0mextract_mission\u001b[0m\u001b[0;34m(\u001b[0m\u001b[0mx\u001b[0m\u001b[0;34m)\u001b[0m\u001b[0;34m)\u001b[0m\u001b[0;34m\u001b[0m\u001b[0m\n\u001b[0m",
      "\u001b[0;31mAttributeError\u001b[0m: 'str' object has no attribute 'apply'"
     ]
    }
   ],
   "source": [
    ".apply(lambda x: extract_mission(x))"
   ]
  },
  {
   "cell_type": "code",
   "execution_count": 45,
   "metadata": {},
   "outputs": [
    {
     "data": {
      "text/plain": [
       "u'OFFER EDUCATION, RESEARCH, & GRANTS TO SUPPORT THE MISSION OF THE HEALTHCARE ASSOCIATION OF NYS.'"
      ]
     },
     "execution_count": 45,
     "metadata": {},
     "output_type": "execute_result"
    }
   ],
   "source": [
    "xmltodict.parse(sfncpd.head(1)['return_info'][0])['Return']['ReturnData']['IRS990']['ActivityOrMissionDescription']"
   ]
  },
  {
   "cell_type": "code",
   "execution_count": 44,
   "metadata": {},
   "outputs": [],
   "source": [
    "def extract_mission(return_string):\n",
    "    try:\n",
    "        return  xmltodict.parse(return_string)['Return']['ReturnData']['IRS990']['ActivityOrMissionDesc'].encode('utf-8')\n",
    "    except KeyError:\n",
    "        return  xmltodict.parse(return_string)['Return']['ReturnData']['IRS990']['ActivityOrMissionDescription'].encode('utf-8')\n",
    "    except:\n",
    "        return str(\"NO MISSION\")"
   ]
  },
  {
   "cell_type": "code",
   "execution_count": 50,
   "metadata": {},
   "outputs": [],
   "source": [
    "def get_returntype(return_string):\n",
    "    try:\n",
    "        return xmltodict.parse(return_string)['Return']['ReturnHeader']['ReturnType'].encode('utf-8')\n",
    "    except KeyError:\n",
    "        return str(\"No ReturnType - KeyError\")"
   ]
  },
  {
   "cell_type": "code",
   "execution_count": 51,
   "metadata": {},
   "outputs": [],
   "source": [
    "sfncpd['returntype'] = sfncpd['return_info'].apply(lambda x: get_returntype(x))"
   ]
  },
  {
   "cell_type": "code",
   "execution_count": 52,
   "metadata": {},
   "outputs": [
    {
     "data": {
      "text/plain": [
       "dtype: str\n",
       "Rows: 4\n",
       "['990', '990PF', 'No ReturnType - KeyError', '990EZ']"
      ]
     },
     "execution_count": 52,
     "metadata": {},
     "output_type": "execute_result"
    }
   ],
   "source": [
    "sfncpd['returntype'].unique()"
   ]
  },
  {
   "cell_type": "code",
   "execution_count": 54,
   "metadata": {},
   "outputs": [
    {
     "data": {
      "text/plain": [
       "False"
      ]
     },
     "execution_count": 54,
     "metadata": {},
     "output_type": "execute_result"
    }
   ],
   "source": [
    "sfncpd.is_materialized()"
   ]
  },
  {
   "cell_type": "code",
   "execution_count": 57,
   "metadata": {},
   "outputs": [
    {
     "name": "stdout",
     "output_type": "stream",
     "text": [
      "Canvas is accessible via web browser at the URL: http://localhost:51760/index.html\n",
      "Opening Canvas in default web browser.\n"
     ]
    }
   ],
   "source": [
    "sfncpd.show()"
   ]
  },
  {
   "cell_type": "code",
   "execution_count": 58,
   "metadata": {},
   "outputs": [
    {
     "data": {
      "text/plain": [
       "True"
      ]
     },
     "execution_count": 58,
     "metadata": {},
     "output_type": "execute_result"
    }
   ],
   "source": [
    "sfncpd.is_materialized()"
   ]
  },
  {
   "cell_type": "code",
   "execution_count": 87,
   "metadata": {},
   "outputs": [],
   "source": [
    "def extract_execs(return_string):\n",
    "    try:\n",
    "        return  xmltodict.parse(return_string)['Return']['ReturnData']['IRS990']['Form990PartVIISectionAGrp']\n",
    "    except KeyError:\n",
    "        return  xmltodict.parse(return_string)['Return']['ReturnData']['IRS990']['Form990PartVIISectionA']\n",
    "    except KeyError:\n",
    "        return  xmltodict.parse(return_string)['Return']['ReturnData']['IRS990EZ']['OfficerDirectorTrusteeEmplGrp']\n",
    "    except:\n",
    "        return str(\"NO EXECS\")\n",
    "\n",
    "    "
   ]
  },
  {
   "cell_type": "code",
   "execution_count": null,
   "metadata": {},
   "outputs": [],
   "source": [
    "        exec_df = pd.DataFrame.from_dict(tempdict['Return']['ReturnData']['IRS990EZ']['OfficerDirectorTrusteeEmplGrp']).set_index('PersonNm')\n",
    "\n",
    "\n",
    "        response = [rev_gross, rev_program, rev_dues, rev_investment, rev_total, exp_comp,\\\n",
    "                exp_other, exp_total, assets_boy, assets_eoy, assets_boy_cash, assets_eoy_cash,\\\n",
    "                assets_boy_realest, assets_eoy_realest, assets_boy_other, assets_eoy_other, assets_boy_total,\\\n",
    "                assets_eoy_total, assets_boy_net, assets_eoy_net, txt_primary_exempt, txt_program_svc]\n",
    "        \n",
    "        response = dict((name, eval(name)) for name in response)\n",
    "        for name in response:\n",
    "            respo[name] = eval(name)\n",
    "        \n",
    "        return respo"
   ]
  },
  {
   "cell_type": "code",
   "execution_count": 63,
   "metadata": {},
   "outputs": [],
   "source": [
    "sfncpd = SFrame('/Users/mrl/Projects/dev/gl/ninety/sfncpd')"
   ]
  },
  {
   "cell_type": "code",
   "execution_count": 65,
   "metadata": {},
   "outputs": [
    {
     "name": "stdout",
     "output_type": "stream",
     "text": [
      "Canvas is accessible via web browser at the URL: http://localhost:51760/index.html\n",
      "Opening Canvas in default web browser.\n"
     ]
    }
   ],
   "source": [
    "sfncpd.show()"
   ]
  },
  {
   "cell_type": "code",
   "execution_count": 90,
   "metadata": {},
   "outputs": [],
   "source": [
    "import pandas as pd"
   ]
  },
  {
   "cell_type": "code",
   "execution_count": 83,
   "metadata": {
    "collapsed": true
   },
   "outputs": [
    {
     "data": {
      "text/plain": [
       "[OrderedDict([(u'NamePerson', u'JOSEPH QUAGLIATA'),\n",
       "              (u'Title', u'CHAIRMAN'),\n",
       "              (u'AverageHoursPerWeek', u'0.20'),\n",
       "              (u'IndividualTrusteeOrDirector', u'X'),\n",
       "              (u'Officer', u'X'),\n",
       "              (u'ReportableCompFromOrganization', u'0'),\n",
       "              (u'ReportableCompFromRelatedOrgs', u'0'),\n",
       "              (u'OtherCompensation', u'0')]),\n",
       " OrderedDict([(u'NamePerson', u'HERBERT PARDES MD'),\n",
       "              (u'Title', u'CHAIRMAN-ELECT'),\n",
       "              (u'AverageHoursPerWeek', u'0.20'),\n",
       "              (u'IndividualTrusteeOrDirector', u'X'),\n",
       "              (u'Officer', u'X'),\n",
       "              (u'ReportableCompFromOrganization', u'0'),\n",
       "              (u'ReportableCompFromRelatedOrgs', u'0'),\n",
       "              (u'OtherCompensation', u'0')]),\n",
       " OrderedDict([(u'NamePerson', u'JOSEPH MCDONALD'),\n",
       "              (u'Title', u'SECRETARY'),\n",
       "              (u'AverageHoursPerWeek', u'0.20'),\n",
       "              (u'IndividualTrusteeOrDirector', u'X'),\n",
       "              (u'Officer', u'X'),\n",
       "              (u'ReportableCompFromOrganization', u'0'),\n",
       "              (u'ReportableCompFromRelatedOrgs', u'0'),\n",
       "              (u'OtherCompensation', u'0')]),\n",
       " OrderedDict([(u'NamePerson', u'LINDA BRADY MD'),\n",
       "              (u'Title', u'TREASURER'),\n",
       "              (u'AverageHoursPerWeek', u'0.20'),\n",
       "              (u'IndividualTrusteeOrDirector', u'X'),\n",
       "              (u'Officer', u'X'),\n",
       "              (u'ReportableCompFromOrganization', u'0'),\n",
       "              (u'ReportableCompFromRelatedOrgs', u'0'),\n",
       "              (u'OtherCompensation', u'0')]),\n",
       " OrderedDict([(u'NamePerson', u'DAVID KRUCZLNICKI'),\n",
       "              (u'Title', u'IMMEDIATE PAST-CHAIRMAN'),\n",
       "              (u'AverageHoursPerWeek', u'0.20'),\n",
       "              (u'IndividualTrusteeOrDirector', u'X'),\n",
       "              (u'ReportableCompFromOrganization', u'0'),\n",
       "              (u'ReportableCompFromRelatedOrgs', u'0'),\n",
       "              (u'OtherCompensation', u'0')]),\n",
       " OrderedDict([(u'NamePerson', u'MICHAEL DOWLING'),\n",
       "              (u'Title', u'PAST-CHAIRMAN'),\n",
       "              (u'AverageHoursPerWeek', u'0.20'),\n",
       "              (u'IndividualTrusteeOrDirector', u'X'),\n",
       "              (u'ReportableCompFromOrganization', u'0'),\n",
       "              (u'ReportableCompFromRelatedOrgs', u'0'),\n",
       "              (u'OtherCompensation', u'0')]),\n",
       " OrderedDict([(u'NamePerson', u'STANLEY BREZENOFF'),\n",
       "              (u'Title', u'PAST-CHAIRMAN'),\n",
       "              (u'AverageHoursPerWeek', u'0.20'),\n",
       "              (u'IndividualTrusteeOrDirector', u'X'),\n",
       "              (u'ReportableCompFromOrganization', u'0'),\n",
       "              (u'ReportableCompFromRelatedOrgs', u'0'),\n",
       "              (u'OtherCompensation', u'0')]),\n",
       " OrderedDict([(u'NamePerson', u'STEVE GOLDSTEIN'),\n",
       "              (u'Title', u'PAST-CHAIRMAN'),\n",
       "              (u'AverageHoursPerWeek', u'0.20'),\n",
       "              (u'IndividualTrusteeOrDirector', u'X'),\n",
       "              (u'ReportableCompFromOrganization', u'0'),\n",
       "              (u'ReportableCompFromRelatedOrgs', u'0'),\n",
       "              (u'OtherCompensation', u'0')]),\n",
       " OrderedDict([(u'NamePerson', u'DANIEL SISTO'),\n",
       "              (u'Title', u'PRESIDENT'),\n",
       "              (u'AverageHoursPerWeek', u'0.30'),\n",
       "              (u'Officer', u'X'),\n",
       "              (u'ReportableCompFromOrganization', u'3960'),\n",
       "              (u'ReportableCompFromRelatedOrgs', u'787934'),\n",
       "              (u'OtherCompensation', u'133525')]),\n",
       " OrderedDict([(u'NamePerson', u'DANIEL DEL POZZO'),\n",
       "              (u'Title', u'VP/CFO'),\n",
       "              (u'AverageHoursPerWeek', u'1.80'),\n",
       "              (u'Officer', u'X'),\n",
       "              (u'ReportableCompFromOrganization', u'6672'),\n",
       "              (u'ReportableCompFromRelatedOrgs', u'175422'),\n",
       "              (u'OtherCompensation', u'23359')]),\n",
       " OrderedDict([(u'NamePerson', u'DENNIS WHALEN'),\n",
       "              (u'Title', u'COO-HANYS'),\n",
       "              (u'AverageHoursPerWeek', u'0.20'),\n",
       "              (u'Officer', u'X'),\n",
       "              (u'ReportableCompFromOrganization', u'736'),\n",
       "              (u'ReportableCompFromRelatedOrgs', u'244728'),\n",
       "              (u'OtherCompensation', u'66570')])]"
      ]
     },
     "execution_count": 83,
     "metadata": {},
     "output_type": "execute_result"
    }
   ],
   "source": [
    "xmltodict.parse(sfncpd.head(1)['return_info'][0])['Return']['ReturnData']['IRS990']['Form990PartVIISectionA']"
   ]
  },
  {
   "cell_type": "code",
   "execution_count": null,
   "metadata": {},
   "outputs": [],
   "source": []
  },
  {
   "cell_type": "code",
   "execution_count": null,
   "metadata": {},
   "outputs": [],
   "source": []
  },
  {
   "cell_type": "code",
   "execution_count": null,
   "metadata": {},
   "outputs": [],
   "source": []
  },
  {
   "cell_type": "code",
   "execution_count": null,
   "metadata": {},
   "outputs": [],
   "source": []
  },
  {
   "cell_type": "code",
   "execution_count": null,
   "metadata": {},
   "outputs": [],
   "source": []
  },
  {
   "cell_type": "code",
   "execution_count": null,
   "metadata": {},
   "outputs": [],
   "source": [
    "sfncpd.save('/Users/mrl/Projects/dev/gl/ninety/sfncpd')\n",
    "msa_zip.save('/Users/mrl/Projects/dev/gl/fifty/msa_zip')\n",
    "sfnmsa.save('/Users/mrl/Projects/dev/gl/fifty/sfnmsa')"
   ]
  },
  {
   "cell_type": "code",
   "execution_count": null,
   "metadata": {},
   "outputs": [],
   "source": []
  },
  {
   "cell_type": "code",
   "execution_count": null,
   "metadata": {},
   "outputs": [],
   "source": []
  }
 ],
 "metadata": {
  "anaconda-cloud": {},
  "kernelspec": {
   "display_name": "Python [default]",
   "language": "python",
   "name": "python2"
  },
  "language_info": {
   "codemirror_mode": {
    "name": "ipython",
    "version": 2
   },
   "file_extension": ".py",
   "mimetype": "text/x-python",
   "name": "python",
   "nbconvert_exporter": "python",
   "pygments_lexer": "ipython2",
   "version": "2.7.13"
  },
  "toc": {
   "nav_menu": {},
   "number_sections": true,
   "sideBar": true,
   "skip_h1_title": false,
   "title_cell": "Table of Contents",
   "title_sidebar": "Contents",
   "toc_cell": false,
   "toc_position": {},
   "toc_section_display": true,
   "toc_window_display": false
  }
 },
 "nbformat": 4,
 "nbformat_minor": 2
}
