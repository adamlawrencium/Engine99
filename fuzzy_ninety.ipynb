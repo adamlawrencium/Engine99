{
 "cells": [
  {
   "cell_type": "code",
   "execution_count": 12,
   "metadata": {
    "ExecuteTime": {
     "end_time": "2018-03-03T15:31:10.938581Z",
     "start_time": "2018-03-03T15:31:10.932645Z"
    }
   },
   "outputs": [],
   "source": [
    "import graphlab as gl\n",
    "from graphlab import SFrame\n",
    "import xmltodict, untangle\n",
    "import pandas as pd\n",
    "import sys\n",
    "from nameparser import HumanName"
   ]
  },
  {
   "cell_type": "code",
   "execution_count": 13,
   "metadata": {
    "ExecuteTime": {
     "end_time": "2018-03-03T15:31:13.405198Z",
     "start_time": "2018-03-03T15:31:13.394993Z"
    }
   },
   "outputs": [],
   "source": [
    "sfm = SFrame('./ninety/sfmain_saved')"
   ]
  },
  {
   "cell_type": "code",
   "execution_count": 16,
   "metadata": {
    "ExecuteTime": {
     "end_time": "2018-03-03T15:33:41.676496Z",
     "start_time": "2018-03-03T15:33:41.669708Z"
    }
   },
   "outputs": [],
   "source": [
    "del sfm['return_info']"
   ]
  },
  {
   "cell_type": "code",
   "execution_count": 17,
   "metadata": {
    "ExecuteTime": {
     "end_time": "2018-03-03T15:33:44.526946Z",
     "start_time": "2018-03-03T15:33:43.699154Z"
    }
   },
   "outputs": [
    {
     "name": "stdout",
     "output_type": "stream",
     "text": [
      "Canvas is accessible via web browser at the URL: http://localhost:50784/index.html\n",
      "Opening Canvas in default web browser.\n"
     ]
    }
   ],
   "source": [
    "sfm.show()"
   ]
  },
  {
   "cell_type": "code",
   "execution_count": 3,
   "metadata": {
    "ExecuteTime": {
     "end_time": "2018-03-03T14:11:34.009079Z",
     "start_time": "2018-03-03T14:11:34.002095Z"
    }
   },
   "outputs": [],
   "source": [
    "def getit(cont):\n",
    "    try:\n",
    "        return xmltodict.parse(cont)['Return']['ReturnData']['@documentcount']\n",
    "    except:\n",
    "        pass"
   ]
  },
  {
   "cell_type": "code",
   "execution_count": 4,
   "metadata": {
    "ExecuteTime": {
     "end_time": "2018-03-03T14:11:34.837677Z",
     "start_time": "2018-03-03T14:11:34.809776Z"
    }
   },
   "outputs": [],
   "source": [
    "def get_forms(x):\n",
    "    utp = untangle.parse(x)\n",
    "    rdlist = dir(utp.Return.ReturnData)\n",
    "    return [str(item) for item in rdlist]\n",
    "\n",
    "def get_header_type(x):\n",
    "    utp = untangle.parse(x)\n",
    "    return utp.Return.ReturnHeader.ReturnType.cdata.encode('ascii')\n",
    "\n",
    "def load_value(x,field):\n",
    "    try:\n",
    "        utp = untangle.parse(x)\n",
    "        utp_data = utp.Return.ReturnData\n",
    "        return get_value(utp_data.IRS990,field)\n",
    "    except:\n",
    "        return None\n",
    "def get_value(source,field):\n",
    "    try:\n",
    "        return getattr(source,field).cdata\n",
    "    except:\n",
    "        return None\n",
    "    \n",
    "    \n",
    "def get_peoplenames(x):\n",
    "    try:\n",
    "        utp = untangle.parse(x)\n",
    "        utp_data = utp.Return.ReturnData.IRS990.Form990PartVIISectionA\n",
    "        namelist = []\n",
    "        for i in utp_data:\n",
    "            raw_name = i.NamePerson.cdata\n",
    "            name = HumanName(raw_name)\n",
    "            namelist.append(str(name))\n",
    "        return namelist\n",
    "    except:\n",
    "        return None"
   ]
  },
  {
   "cell_type": "code",
   "execution_count": null,
   "metadata": {},
   "outputs": [],
   "source": []
  },
  {
   "cell_type": "code",
   "execution_count": 5,
   "metadata": {
    "ExecuteTime": {
     "end_time": "2018-03-03T14:11:36.745613Z",
     "start_time": "2018-03-03T14:11:36.409921Z"
    }
   },
   "outputs": [
    {
     "ename": "NameError",
     "evalue": "name 'utp' is not defined",
     "output_type": "error",
     "traceback": [
      "\u001b[0;31m---------------------------------------------------------------------------\u001b[0m",
      "\u001b[0;31mNameError\u001b[0m                                 Traceback (most recent call last)",
      "\u001b[0;32m<ipython-input-5-ec4e03980c9e>\u001b[0m in \u001b[0;36m<module>\u001b[0;34m()\u001b[0m\n\u001b[0;32m----> 1\u001b[0;31m \u001b[0;32mfor\u001b[0m \u001b[0mi\u001b[0m \u001b[0;32min\u001b[0m \u001b[0mutp\u001b[0m\u001b[0;34m.\u001b[0m\u001b[0mReturn\u001b[0m\u001b[0;34m.\u001b[0m\u001b[0mReturnData\u001b[0m\u001b[0;34m.\u001b[0m\u001b[0mIRS990\u001b[0m\u001b[0;34m.\u001b[0m\u001b[0mForm990PartVIISectionA\u001b[0m\u001b[0;34m:\u001b[0m\u001b[0;34m\u001b[0m\u001b[0m\n\u001b[0m\u001b[1;32m      2\u001b[0m     \u001b[0morg_comp\u001b[0m \u001b[0;34m=\u001b[0m \u001b[0mi\u001b[0m\u001b[0;34m.\u001b[0m\u001b[0mReportableCompFromOrganization\u001b[0m\u001b[0;34m.\u001b[0m\u001b[0mcdata\u001b[0m\u001b[0;34m\u001b[0m\u001b[0m\n\u001b[1;32m      3\u001b[0m     \u001b[0mrel_org_comp\u001b[0m \u001b[0;34m=\u001b[0m \u001b[0mi\u001b[0m\u001b[0;34m.\u001b[0m\u001b[0mReportableCompFromRelatedOrgs\u001b[0m\u001b[0;34m.\u001b[0m\u001b[0mcdata\u001b[0m\u001b[0;34m\u001b[0m\u001b[0m\n\u001b[1;32m      4\u001b[0m     \u001b[0mother_comp\u001b[0m \u001b[0;34m=\u001b[0m \u001b[0mi\u001b[0m\u001b[0;34m.\u001b[0m\u001b[0mOtherCompensation\u001b[0m\u001b[0;34m.\u001b[0m\u001b[0mcdata\u001b[0m\u001b[0;34m\u001b[0m\u001b[0m\n\u001b[1;32m      5\u001b[0m     \u001b[0morg_comp\u001b[0m \u001b[0;34m=\u001b[0m \u001b[0mint\u001b[0m\u001b[0;34m(\u001b[0m\u001b[0morg_comp\u001b[0m\u001b[0;34m)\u001b[0m\u001b[0;34m\u001b[0m\u001b[0m\n",
      "\u001b[0;31mNameError\u001b[0m: name 'utp' is not defined"
     ]
    }
   ],
   "source": [
    "for i in utp.Return.ReturnData.IRS990.Form990PartVIISectionA:\n",
    "    org_comp = i.ReportableCompFromOrganization.cdata\n",
    "    rel_org_comp = i.ReportableCompFromRelatedOrgs.cdata\n",
    "    other_comp = i.OtherCompensation.cdata\n",
    "    org_comp = int(org_comp)\n",
    "    rel_org_comp = int(rel_org_comp)\n",
    "    other_comp = int(other_comp)\n",
    "    tot_comp = [rel_org_comp,other_comp,org_comp]\n",
    "    tot_comp = sum(tot_comp)\n",
    "    print i.NamePerson.cdata"
   ]
  },
  {
   "cell_type": "code",
   "execution_count": null,
   "metadata": {},
   "outputs": [],
   "source": [
    "    raw_name = i.NamePerson.cdata\n",
    "    name = HumanName(raw_name)\n",
    "    print name"
   ]
  },
  {
   "cell_type": "code",
   "execution_count": null,
   "metadata": {},
   "outputs": [],
   "source": [
    "sfm['names'] = sfm['return_info'].apply(lambda x: get_peoplenames(x))"
   ]
  },
  {
   "cell_type": "code",
   "execution_count": null,
   "metadata": {},
   "outputs": [],
   "source": [
    "sft = sfm.head(20)['TAXPAYER_NAME', 'return_info']"
   ]
  },
  {
   "cell_type": "code",
   "execution_count": null,
   "metadata": {},
   "outputs": [],
   "source": [
    "sft = sfm['TAXPAYER_NAME', 'return_info']"
   ]
  },
  {
   "cell_type": "code",
   "execution_count": null,
   "metadata": {},
   "outputs": [],
   "source": [
    "sfbp = SFrame()\n",
    "for i in sft:\n",
    "    taxpayer_name = i['TAXPAYER_NAME']\n",
    "    peoplenames = get_peoplenames(i['return_info'])\n",
    "    if peoplenames is not None:\n",
    "        for person in peoplenames:\n",
    "            tsf = SFrame({'company': [taxpayer_name],'person':[person]})\n",
    "            sfbp = sfbp.append(tsf)\n"
   ]
  },
  {
   "cell_type": "code",
   "execution_count": null,
   "metadata": {},
   "outputs": [],
   "source": [
    "sfbp"
   ]
  },
  {
   "cell_type": "code",
   "execution_count": null,
   "metadata": {},
   "outputs": [],
   "source": [
    "sfbp"
   ]
  },
  {
   "cell_type": "code",
   "execution_count": null,
   "metadata": {},
   "outputs": [],
   "source": []
  },
  {
   "cell_type": "code",
   "execution_count": null,
   "metadata": {},
   "outputs": [],
   "source": []
  },
  {
   "cell_type": "code",
   "execution_count": 7,
   "metadata": {
    "ExecuteTime": {
     "end_time": "2018-03-03T14:11:46.525524Z",
     "start_time": "2018-03-03T14:11:46.087248Z"
    }
   },
   "outputs": [],
   "source": [
    "sfmri = sfm[100]['return_info']"
   ]
  },
  {
   "cell_type": "code",
   "execution_count": 8,
   "metadata": {
    "ExecuteTime": {
     "end_time": "2018-03-03T14:11:47.107653Z",
     "start_time": "2018-03-03T14:11:47.083916Z"
    }
   },
   "outputs": [
    {
     "data": {
      "text/plain": [
       "['MICHAEL DALEY',\n",
       " 'JAMES SHYER',\n",
       " 'DOUG HEPPER',\n",
       " 'LARRY CLARKE',\n",
       " 'TOM ABBOTT',\n",
       " 'MARTIN BASSETT',\n",
       " 'DAVID BIBBEY',\n",
       " 'DAVID COLE',\n",
       " 'PIERRE FAY',\n",
       " 'JOHN FRIED',\n",
       " 'ANDREA GLUCK',\n",
       " 'DON HOWARD',\n",
       " 'FREDERICK HOWARD',\n",
       " 'MICHAEL HUNDERT',\n",
       " 'GEOFFREY MOSS',\n",
       " 'STEPHEN RAPPOPORT',\n",
       " 'DICK RUSSO',\n",
       " 'GERARD SANTINELLI',\n",
       " 'RAANAN NAFTALOVICH',\n",
       " 'ED GREENE',\n",
       " 'DEBORAH MALAKOFF',\n",
       " 'BRIAN CARROLL',\n",
       " 'GREG CHAVEZ',\n",
       " 'RENE SOLTIS',\n",
       " 'DONNA VAN GREEN']"
      ]
     },
     "execution_count": 8,
     "metadata": {},
     "output_type": "execute_result"
    }
   ],
   "source": [
    "get_peoplenames(sfmri)"
   ]
  },
  {
   "cell_type": "code",
   "execution_count": null,
   "metadata": {},
   "outputs": [],
   "source": []
  },
  {
   "cell_type": "code",
   "execution_count": null,
   "metadata": {},
   "outputs": [],
   "source": []
  },
  {
   "cell_type": "code",
   "execution_count": 9,
   "metadata": {
    "ExecuteTime": {
     "end_time": "2018-03-03T14:15:52.645214Z",
     "start_time": "2018-03-03T14:15:52.624304Z"
    }
   },
   "outputs": [],
   "source": [
    "utp = untangle.parse(sfmri)\n",
    "utp_data = utp.Return.ReturnData"
   ]
  },
  {
   "cell_type": "code",
   "execution_count": 10,
   "metadata": {
    "ExecuteTime": {
     "end_time": "2018-03-03T14:15:55.172250Z",
     "start_time": "2018-03-03T14:15:55.166778Z"
    }
   },
   "outputs": [
    {
     "data": {
      "text/plain": [
       "Element(name = None, attributes = None, cdata = )"
      ]
     },
     "execution_count": 10,
     "metadata": {},
     "output_type": "execute_result"
    }
   ],
   "source": [
    "utp"
   ]
  },
  {
   "cell_type": "code",
   "execution_count": 11,
   "metadata": {
    "ExecuteTime": {
     "end_time": "2018-03-03T14:15:59.292694Z",
     "start_time": "2018-03-03T14:15:59.285838Z"
    }
   },
   "outputs": [
    {
     "data": {
      "text/plain": [
       "Element(name = ReturnData, attributes = {u'documentCount': u'6'}, cdata = \n",
       "    \n",
       "    \n",
       "    \n",
       "    \n",
       "    \n",
       "    \n",
       "  )"
      ]
     },
     "execution_count": 11,
     "metadata": {},
     "output_type": "execute_result"
    }
   ],
   "source": [
    "utp_data"
   ]
  },
  {
   "cell_type": "code",
   "execution_count": null,
   "metadata": {},
   "outputs": [],
   "source": [
    "for i in utp.Return.ReturnData.IRS990.Form990PartVIISectionA:\n",
    "    raw_name = i.NamePerson.cdata\n",
    "    name = HumanName(raw_name)\n",
    "    print name"
   ]
  },
  {
   "cell_type": "code",
   "execution_count": null,
   "metadata": {},
   "outputs": [],
   "source": [
    "for i in utp.Return.ReturnData.IRS990.Form990PartVIISectionA:\n",
    "    org_comp = i.ReportableCompFromOrganization.cdata\n",
    "    rel_org_comp = i.ReportableCompFromRelatedOrgs.cdata\n",
    "    other_comp = i.OtherCompensation.cdata\n",
    "    org_comp = int(org_comp)\n",
    "    rel_org_comp = int(rel_org_comp)\n",
    "    other_comp = int(other_comp)\n",
    "    tot_comp = [rel_org_comp,other_comp,org_comp]\n",
    "    tot_comp = sum(tot_comp)\n",
    "    print i.NamePerson.cdata"
   ]
  },
  {
   "cell_type": "code",
   "execution_count": null,
   "metadata": {},
   "outputs": [],
   "source": [
    "vals2 = vals[0]"
   ]
  },
  {
   "cell_type": "code",
   "execution_count": null,
   "metadata": {},
   "outputs": [],
   "source": [
    "vals2.NamePerson.cdata"
   ]
  },
  {
   "cell_type": "code",
   "execution_count": null,
   "metadata": {},
   "outputs": [],
   "source": [
    "vals2.NamePerson.cdata"
   ]
  },
  {
   "cell_type": "code",
   "execution_count": null,
   "metadata": {},
   "outputs": [],
   "source": [
    "utp_data.IRS990.SalariesEtcCurrentYear.cdata\n",
    "utp_data.IRS990.GrantsAndSimilarAmntsCY.cdata\n",
    "utp_data.IRS990.ContributionsGrantsCurrentYear.cdata\n",
    "utp_data.IRS990.ProgramServiceRevenueCY.cdata"
   ]
  },
  {
   "cell_type": "code",
   "execution_count": null,
   "metadata": {},
   "outputs": [],
   "source": [
    "utp_data.IRS990.TotalRevenueCurrentYear.cdata"
   ]
  },
  {
   "cell_type": "code",
   "execution_count": null,
   "metadata": {},
   "outputs": [],
   "source": [
    "utp_data.IRS990.NumberOfEmployees.cdata"
   ]
  },
  {
   "cell_type": "code",
   "execution_count": null,
   "metadata": {},
   "outputs": [],
   "source": [
    "utp_data.IRS990.NumberIndependentVotingMembers.cdata"
   ]
  },
  {
   "cell_type": "code",
   "execution_count": null,
   "metadata": {},
   "outputs": [],
   "source": [
    "utp_data.IRS990"
   ]
  },
  {
   "cell_type": "code",
   "execution_count": null,
   "metadata": {},
   "outputs": [],
   "source": [
    "sfm.column_names()"
   ]
  },
  {
   "cell_type": "code",
   "execution_count": null,
   "metadata": {},
   "outputs": [],
   "source": [
    "ceg = sfm.filter_by(222880333,'EIN')"
   ]
  },
  {
   "cell_type": "code",
   "execution_count": null,
   "metadata": {},
   "outputs": [],
   "source": [
    "sfm[sfm['OBJECT_ID']==201633199349309138]"
   ]
  },
  {
   "cell_type": "code",
   "execution_count": null,
   "metadata": {},
   "outputs": [],
   "source": [
    "_m_sfm = gl._internal.search.create(sfm,features=['TAXPAYER_NAME'])"
   ]
  },
  {
   "cell_type": "code",
   "execution_count": null,
   "metadata": {},
   "outputs": [],
   "source": [
    "_m_sfm.save('_m_sfm_search')"
   ]
  },
  {
   "cell_type": "code",
   "execution_count": null,
   "metadata": {},
   "outputs": [],
   "source": []
  },
  {
   "cell_type": "code",
   "execution_count": null,
   "metadata": {},
   "outputs": [],
   "source": []
  },
  {
   "cell_type": "code",
   "execution_count": null,
   "metadata": {},
   "outputs": [],
   "source": []
  },
  {
   "cell_type": "code",
   "execution_count": null,
   "metadata": {},
   "outputs": [],
   "source": []
  },
  {
   "cell_type": "code",
   "execution_count": null,
   "metadata": {},
   "outputs": [],
   "source": []
  },
  {
   "cell_type": "code",
   "execution_count": null,
   "metadata": {},
   "outputs": [],
   "source": [
    "load_value(sfmri,\"NetAssetsOrFundBalancesEOY\").encode('ascii')"
   ]
  },
  {
   "cell_type": "code",
   "execution_count": null,
   "metadata": {},
   "outputs": [],
   "source": [
    "sfm['NetAssetsEOY'] = sfm['return_info'].apply(lambda x: load_value(x,\"NetAssetsOrFundBalancesEOY\"))"
   ]
  },
  {
   "cell_type": "code",
   "execution_count": null,
   "metadata": {},
   "outputs": [],
   "source": [
    "sfm['NetAssetsEOY'] = sfm['return_info'].apply(lambda x: load_value(x,\"NetAssetsOrFundBalancesEOY\"))"
   ]
  },
  {
   "cell_type": "code",
   "execution_count": null,
   "metadata": {},
   "outputs": [],
   "source": [
    "res = dir(utp_data.IRS990)"
   ]
  },
  {
   "cell_type": "code",
   "execution_count": null,
   "metadata": {},
   "outputs": [],
   "source": [
    "get_value(utp_data.IRS990,\"Mission\")"
   ]
  },
  {
   "cell_type": "code",
   "execution_count": null,
   "metadata": {},
   "outputs": [],
   "source": [
    "get_value(utp_data.IRS990,\"NetAssetsEOY\")"
   ]
  },
  {
   "cell_type": "code",
   "execution_count": null,
   "metadata": {},
   "outputs": [],
   "source": [
    "utp_data.IRS990.NetAssetsOrFundBalancesEOY"
   ]
  },
  {
   "cell_type": "code",
   "execution_count": null,
   "metadata": {},
   "outputs": [],
   "source": [
    "utp = untangle.parse(ri)\n",
    "utp_header = utp.Return.ReturnHeader\n",
    "utp_data = utp.Return.ReturnData"
   ]
  },
  {
   "cell_type": "code",
   "execution_count": null,
   "metadata": {},
   "outputs": [],
   "source": []
  },
  {
   "cell_type": "code",
   "execution_count": null,
   "metadata": {},
   "outputs": [],
   "source": [
    "sfm['header_type'] = sfm['return_info'].apply(lambda x: get_header_type(x))"
   ]
  },
  {
   "cell_type": "code",
   "execution_count": null,
   "metadata": {},
   "outputs": [],
   "source": [
    "sfm['forms_list'] = sfm['return_info'].apply(lambda x: get_forms(x)) "
   ]
  },
  {
   "cell_type": "code",
   "execution_count": null,
   "metadata": {},
   "outputs": [],
   "source": []
  },
  {
   "cell_type": "code",
   "execution_count": null,
   "metadata": {},
   "outputs": [],
   "source": []
  },
  {
   "cell_type": "code",
   "execution_count": null,
   "metadata": {},
   "outputs": [],
   "source": [
    "RETURN_TYPES = sfm['RETURN_TYPE'].unique()"
   ]
  },
  {
   "cell_type": "code",
   "execution_count": null,
   "metadata": {},
   "outputs": [],
   "source": [
    "RETURN_TYPES"
   ]
  },
  {
   "cell_type": "code",
   "execution_count": null,
   "metadata": {},
   "outputs": [],
   "source": [
    "forms_990 = sfm[sfm['RETURN_TYPE']=='990']['forms_list'].unique()\n",
    "forms_990EO = sfm[sfm['RETURN_TYPE']=='990EO']['forms_list'].unique()\n",
    "forms_990PF = sfm[sfm['RETURN_TYPE']=='990PF']['forms_list'].unique()\n",
    "forms_990O = sfm[sfm['RETURN_TYPE']=='990O']['forms_list'].unique()\n",
    "forms_990EZ = sfm[sfm['RETURN_TYPE']=='990EZ']['forms_list'].unique()"
   ]
  },
  {
   "cell_type": "code",
   "execution_count": null,
   "metadata": {},
   "outputs": [],
   "source": [
    "sfm['RETURN_TYPE','header_type'].unique()"
   ]
  },
  {
   "cell_type": "code",
   "execution_count": null,
   "metadata": {},
   "outputs": [],
   "source": [
    "sfm[sfm['RETURN_TYPE']=='990EO']['RETURN_TYPE', 'header_type', 'forms_list']"
   ]
  },
  {
   "cell_type": "code",
   "execution_count": null,
   "metadata": {},
   "outputs": [],
   "source": [
    "utp_header.ReturnType.cdata"
   ]
  },
  {
   "cell_type": "code",
   "execution_count": null,
   "metadata": {},
   "outputs": [],
   "source": []
  },
  {
   "cell_type": "code",
   "execution_count": null,
   "metadata": {},
   "outputs": [],
   "source": [
    "ri = sfm[0]['return_info']"
   ]
  },
  {
   "cell_type": "code",
   "execution_count": null,
   "metadata": {},
   "outputs": [],
   "source": [
    "xmltodict.parse(ri)"
   ]
  },
  {
   "cell_type": "code",
   "execution_count": null,
   "metadata": {},
   "outputs": [],
   "source": [
    "utp = untangle.parse(ri)\n",
    "utp_header = utp.Return.ReturnHeader\n",
    "utp_data = utp.Return.ReturnData"
   ]
  },
  {
   "cell_type": "code",
   "execution_count": null,
   "metadata": {},
   "outputs": [],
   "source": [
    "return_header_type = utp_header.ReturnType.cdata"
   ]
  },
  {
   "cell_type": "code",
   "execution_count": null,
   "metadata": {},
   "outputs": [],
   "source": []
  },
  {
   "cell_type": "code",
   "execution_count": null,
   "metadata": {},
   "outputs": [],
   "source": [
    "utp.Return"
   ]
  },
  {
   "cell_type": "code",
   "execution_count": null,
   "metadata": {},
   "outputs": [],
   "source": []
  },
  {
   "cell_type": "code",
   "execution_count": null,
   "metadata": {},
   "outputs": [],
   "source": [
    "r = len(res)"
   ]
  },
  {
   "cell_type": "code",
   "execution_count": null,
   "metadata": {},
   "outputs": [],
   "source": [
    "getattr(utp_data.IRS990,\"TotalAssetsEOY\").cdata"
   ]
  },
  {
   "cell_type": "code",
   "execution_count": null,
   "metadata": {},
   "outputs": [],
   "source": [
    "field_list = []"
   ]
  },
  {
   "cell_type": "code",
   "execution_count": null,
   "metadata": {},
   "outputs": [],
   "source": [
    "x = iter(res)\n",
    "i = 0\n",
    "while i < len(res):\n",
    "    val = x.next()\n",
    "    print val\n",
    "    #print getattr(utp_data.IRS990,val).cdata\n",
    "    i+=1"
   ]
  },
  {
   "cell_type": "code",
   "execution_count": null,
   "metadata": {},
   "outputs": [],
   "source": []
  },
  {
   "cell_type": "code",
   "execution_count": null,
   "metadata": {},
   "outputs": [],
   "source": [
    "utpd = utp_data.IRS990"
   ]
  },
  {
   "cell_type": "code",
   "execution_count": null,
   "metadata": {},
   "outputs": [],
   "source": [
    "utpd[0]"
   ]
  },
  {
   "cell_type": "code",
   "execution_count": null,
   "metadata": {},
   "outputs": [],
   "source": [
    "field_list = ['GrossReceipts','ProgramServiceRevenue','ProgramServiceRevenueCY','ProgramServiceRevenuePriorYear']"
   ]
  },
  {
   "cell_type": "code",
   "execution_count": null,
   "metadata": {},
   "outputs": [],
   "source": []
  },
  {
   "cell_type": "code",
   "execution_count": null,
   "metadata": {},
   "outputs": [],
   "source": [
    "get_value(utp_data.IRS990,'GrossReceipts')"
   ]
  },
  {
   "cell_type": "code",
   "execution_count": null,
   "metadata": {},
   "outputs": [],
   "source": []
  },
  {
   "cell_type": "code",
   "execution_count": null,
   "metadata": {},
   "outputs": [],
   "source": []
  },
  {
   "cell_type": "code",
   "execution_count": null,
   "metadata": {},
   "outputs": [],
   "source": []
  },
  {
   "cell_type": "code",
   "execution_count": null,
   "metadata": {},
   "outputs": [],
   "source": []
  },
  {
   "cell_type": "code",
   "execution_count": null,
   "metadata": {},
   "outputs": [],
   "source": []
  },
  {
   "cell_type": "code",
   "execution_count": null,
   "metadata": {},
   "outputs": [],
   "source": [
    "#x = iter(res)\n",
    "x = iter(field_list)\n",
    "i = 0\n",
    "while i < len(field_list):\n",
    "    val = x.next()\n",
    "    print val\n",
    "    try:\n",
    "        print getattr(utp_data.IRS990,val).cdata\n",
    "    except:\n",
    "        print \"not accessable\"\n",
    "    i+=1"
   ]
  },
  {
   "cell_type": "code",
   "execution_count": null,
   "metadata": {},
   "outputs": [],
   "source": []
  },
  {
   "cell_type": "code",
   "execution_count": null,
   "metadata": {},
   "outputs": [],
   "source": []
  },
  {
   "cell_type": "code",
   "execution_count": null,
   "metadata": {},
   "outputs": [],
   "source": [
    "revenue_gross = utp_data.IRS990.GrossReceipts.cdata\n",
    "revenue_program = utp_data.IRS990.ProgramServiceRevenue.cdata    #flagging error?? \n",
    "revenue_program_cy = utp_data.IRS990.ProgramServiceRevenueCY.cdata\n",
    "revenue_program_py = utp_data.IRS990.ProgramServiceRevenuePriorYear.cdata\n"
   ]
  },
  {
   "cell_type": "code",
   "execution_count": null,
   "metadata": {},
   "outputs": [],
   "source": [
    "revenue_program"
   ]
  },
  {
   "cell_type": "code",
   "execution_count": null,
   "metadata": {},
   "outputs": [],
   "source": [
    "reve"
   ]
  },
  {
   "cell_type": "code",
   "execution_count": null,
   "metadata": {},
   "outputs": [],
   "source": [
    "get_forms(ri)"
   ]
  },
  {
   "cell_type": "code",
   "execution_count": null,
   "metadata": {},
   "outputs": [],
   "source": [
    "import inspect"
   ]
  },
  {
   "cell_type": "code",
   "execution_count": null,
   "metadata": {},
   "outputs": [],
   "source": [
    "dir(utp.Return.ReturnHeader)"
   ]
  },
  {
   "cell_type": "code",
   "execution_count": null,
   "metadata": {},
   "outputs": [],
   "source": []
  },
  {
   "cell_type": "code",
   "execution_count": null,
   "metadata": {},
   "outputs": [],
   "source": [
    "utp_data.IRS990.ProgramServiceRevenuePriorYear.cdata"
   ]
  },
  {
   "cell_type": "code",
   "execution_count": null,
   "metadata": {},
   "outputs": [],
   "source": []
  },
  {
   "cell_type": "code",
   "execution_count": null,
   "metadata": {},
   "outputs": [],
   "source": [
    "rev_cg_current_yearutp.Return.ReturnData.IRS990.ContributionsGrantsCurrentYear.cdata"
   ]
  },
  {
   "cell_type": "code",
   "execution_count": null,
   "metadata": {},
   "outputs": [],
   "source": [
    "type(val)"
   ]
  },
  {
   "cell_type": "code",
   "execution_count": null,
   "metadata": {},
   "outputs": [],
   "source": [
    "del sfm['return_info']"
   ]
  },
  {
   "cell_type": "code",
   "execution_count": null,
   "metadata": {},
   "outputs": [],
   "source": [
    "! du -sh sfmain_saved"
   ]
  },
  {
   "cell_type": "code",
   "execution_count": null,
   "metadata": {},
   "outputs": [],
   "source": [
    "cont = sfm[0]['return_info']"
   ]
  },
  {
   "cell_type": "code",
   "execution_count": null,
   "metadata": {},
   "outputs": [],
   "source": [
    "sfm['GrossReceipts'] = sfm['return_info'].apply(lambda x: getit(x))"
   ]
  },
  {
   "cell_type": "code",
   "execution_count": null,
   "metadata": {},
   "outputs": [],
   "source": [
    "def getit(cont):\n",
    "    try:\n",
    "        return xmltodict.parse(cont)['Return']['ReturnData']['IRS990']['GrossReceipts']\n",
    "    except:\n",
    "        pass"
   ]
  },
  {
   "cell_type": "code",
   "execution_count": null,
   "metadata": {},
   "outputs": [],
   "source": [
    "sfm.show()"
   ]
  },
  {
   "cell_type": "code",
   "execution_count": null,
   "metadata": {},
   "outputs": [],
   "source": [
    "sfm"
   ]
  },
  {
   "cell_type": "code",
   "execution_count": null,
   "metadata": {},
   "outputs": [],
   "source": []
  },
  {
   "cell_type": "code",
   "execution_count": null,
   "metadata": {},
   "outputs": [],
   "source": [
    "sfmpfs = sfm[sfm['RETURN_TYPE']=='990PF']"
   ]
  },
  {
   "cell_type": "code",
   "execution_count": null,
   "metadata": {},
   "outputs": [],
   "source": [
    "ACLI = sfm[sfm['EIN']==521044350]"
   ]
  },
  {
   "cell_type": "code",
   "execution_count": null,
   "metadata": {},
   "outputs": [],
   "source": [
    "sfcp = SFrame('sfncpd')"
   ]
  },
  {
   "cell_type": "code",
   "execution_count": null,
   "metadata": {},
   "outputs": [],
   "source": [
    "from fuzzywuzzy import fuzz\n",
    "from fuzzywuzzy import process"
   ]
  },
  {
   "cell_type": "code",
   "execution_count": null,
   "metadata": {},
   "outputs": [],
   "source": [
    "names = list(sfm['TAXPAYER_NAME'])"
   ]
  },
  {
   "cell_type": "code",
   "execution_count": null,
   "metadata": {},
   "outputs": [],
   "source": [
    "sfm.filter_by('S','TAXPAYER_NAME')"
   ]
  },
  {
   "cell_type": "code",
   "execution_count": null,
   "metadata": {},
   "outputs": [],
   "source": [
    "sfm[sfm['TAXPAYER_NAME']=='lloplluytrew']"
   ]
  },
  {
   "cell_type": "code",
   "execution_count": null,
   "metadata": {},
   "outputs": [],
   "source": [
    "idx = SFrame('https://s3.amazonaws.com/irs-form-990/index_2016.csv')"
   ]
  },
  {
   "cell_type": "code",
   "execution_count": null,
   "metadata": {},
   "outputs": [],
   "source": [
    "idx = SFrame('https://s3.amazonaws.com/irs-form-990/index_2017.csv')"
   ]
  },
  {
   "cell_type": "code",
   "execution_count": null,
   "metadata": {},
   "outputs": [],
   "source": [
    "idx[idx['EIN']==222880333]"
   ]
  },
  {
   "cell_type": "code",
   "execution_count": null,
   "metadata": {},
   "outputs": [],
   "source": []
  },
  {
   "cell_type": "code",
   "execution_count": null,
   "metadata": {},
   "outputs": [],
   "source": [
    "sfm[sfm['TAXPAYER_NAME']=='AMERICAN COUNCIL OF LIFE INSURERS INC']"
   ]
  },
  {
   "cell_type": "code",
   "execution_count": null,
   "metadata": {},
   "outputs": [],
   "source": [
    "idx[idx['TAXPAYER_NAME']=='AMERICAN COUNCIL OF LIFE INSURERS INC']"
   ]
  },
  {
   "cell_type": "code",
   "execution_count": null,
   "metadata": {},
   "outputs": [],
   "source": [
    "sfm.column_names()"
   ]
  },
  {
   "cell_type": "code",
   "execution_count": null,
   "metadata": {},
   "outputs": [],
   "source": [
    "m_search = gl._internal.search.create(sfm)"
   ]
  },
  {
   "cell_type": "code",
   "execution_count": null,
   "metadata": {
    "scrolled": true
   },
   "outputs": [],
   "source": [
    "process.extract('NEW YORK SOCIETY FOR THE RELIEF OF RUPTURED CRIPPLED MAINTAINING', names)"
   ]
  },
  {
   "cell_type": "code",
   "execution_count": null,
   "metadata": {
    "scrolled": true
   },
   "outputs": [],
   "source": [
    "sfs = gl._internal.search.create(sfm, features=['TAXPAYER_NAME'])"
   ]
  },
  {
   "cell_type": "code",
   "execution_count": null,
   "metadata": {},
   "outputs": [],
   "source": [
    "sfs.query('erisa industry committee', num_results=10)"
   ]
  },
  {
   "cell_type": "code",
   "execution_count": null,
   "metadata": {},
   "outputs": [],
   "source": [
    "sfs.query('retirement plan participants', num_results=100)"
   ]
  },
  {
   "cell_type": "code",
   "execution_count": null,
   "metadata": {},
   "outputs": [],
   "source": [
    "HSS_INFO = sfs.query('NEW YORK SOCIETY FOR THE RELIEF OF THE')"
   ]
  },
  {
   "cell_type": "code",
   "execution_count": null,
   "metadata": {},
   "outputs": [],
   "source": [
    "NSUH_INFO = sfs.query('NORTH SHORE UNIVERSITY')"
   ]
  },
  {
   "cell_type": "code",
   "execution_count": null,
   "metadata": {},
   "outputs": [],
   "source": [
    "PVH_INFO = sfs.query('PLAINVIEW HOSPITAL')"
   ]
  },
  {
   "cell_type": "code",
   "execution_count": null,
   "metadata": {},
   "outputs": [],
   "source": [
    "pvh_xml = sfm[sfm['RETURN_ID']==13202464]['return_info'][0]"
   ]
  },
  {
   "cell_type": "code",
   "execution_count": null,
   "metadata": {},
   "outputs": [],
   "source": [
    "xmltodict.parse(pvh_xml)['Return']['ReturnData']['IRS990ScheduleC'].keys()"
   ]
  },
  {
   "cell_type": "code",
   "execution_count": null,
   "metadata": {},
   "outputs": [],
   "source": [
    "pd.DataFrame.from_dict(extract_execs(pvh_xml)).to_excel('pvh_exec.xlsx')"
   ]
  },
  {
   "cell_type": "code",
   "execution_count": null,
   "metadata": {},
   "outputs": [],
   "source": []
  },
  {
   "cell_type": "code",
   "execution_count": null,
   "metadata": {},
   "outputs": [],
   "source": []
  },
  {
   "cell_type": "code",
   "execution_count": null,
   "metadata": {},
   "outputs": [],
   "source": []
  },
  {
   "cell_type": "code",
   "execution_count": null,
   "metadata": {},
   "outputs": [],
   "source": [
    "nsuh_xml = NSUH_INFO[NSUH_INFO['SUB_DATE']==\"02/10/2016\"]['return_info'][0]"
   ]
  },
  {
   "cell_type": "code",
   "execution_count": null,
   "metadata": {},
   "outputs": [],
   "source": [
    "xmltodict.parse(nsuh_xml)['Return']['ReturnData']['IRS990ScheduleC'].keys()"
   ]
  },
  {
   "cell_type": "code",
   "execution_count": null,
   "metadata": {},
   "outputs": [],
   "source": [
    "import dateparser"
   ]
  },
  {
   "cell_type": "code",
   "execution_count": null,
   "metadata": {},
   "outputs": [],
   "source": [
    "hss_xml = HSS_INFO[HSS_INFO['SUB_DATE']==\"01/29/2016\"]['return_info'][0]"
   ]
  },
  {
   "cell_type": "code",
   "execution_count": null,
   "metadata": {},
   "outputs": [],
   "source": [
    "xmltodict.parse(hss_xml)['Return']['ReturnData']['IRS990ScheduleC'].keys()"
   ]
  },
  {
   "cell_type": "code",
   "execution_count": null,
   "metadata": {},
   "outputs": [],
   "source": [
    "def extract_execs(return_string):\n",
    "    try:\n",
    "        return  xmltodict.parse(return_string)['Return']['ReturnData']['IRS990']['Form990PartVIISectionAGrp']\n",
    "    except KeyError:\n",
    "        return  xmltodict.parse(return_string)['Return']['ReturnData']['IRS990']['Form990PartVIISectionA']\n",
    "    except KeyError:\n",
    "        return  xmltodict.parse(return_string)['Return']['ReturnData']['IRS990EZ']['OfficerDirectorTrusteeEmplGrp']\n",
    "    except:\n",
    "        return str(\"NO EXECS\")"
   ]
  },
  {
   "cell_type": "code",
   "execution_count": null,
   "metadata": {},
   "outputs": [],
   "source": [
    "exec_df = pd.DataFrame.from_dict(tempdict['Return']['ReturnData']['IRS990EZ']['OfficerDirectorTrusteeEmplGrp']).set_index('PersonNm')"
   ]
  },
  {
   "cell_type": "code",
   "execution_count": null,
   "metadata": {},
   "outputs": [],
   "source": [
    "pd.DataFrame.from_dict(extract_execs(hss_xml)).to_excel('hss_exec.xlsx')"
   ]
  },
  {
   "cell_type": "code",
   "execution_count": null,
   "metadata": {},
   "outputs": [],
   "source": [
    "pd.DataFrame.from_dict(extract_execs(nsuh_xml)).to_excel('nsuh_exec.xlsx')"
   ]
  },
  {
   "cell_type": "code",
   "execution_count": null,
   "metadata": {},
   "outputs": [],
   "source": []
  },
  {
   "cell_type": "code",
   "execution_count": null,
   "metadata": {},
   "outputs": [],
   "source": [
    "sfdd_url = 'https://www.irs.gov/pub/irs-soi/'\n",
    "sfdd_list = ['eo1.csv','eo2.csv','eo3.csv','eo4.csv']"
   ]
  },
  {
   "cell_type": "code",
   "execution_count": null,
   "metadata": {
    "scrolled": true
   },
   "outputs": [],
   "source": [
    "pdflist = sfdd.filter_by(sfmpfs['EIN'], 'EIN').sort('ASSET_AMT',ascending=False)['NAME', 'ASSET_AMT']"
   ]
  },
  {
   "cell_type": "code",
   "execution_count": null,
   "metadata": {},
   "outputs": [],
   "source": []
  },
  {
   "cell_type": "code",
   "execution_count": null,
   "metadata": {},
   "outputs": [],
   "source": []
  },
  {
   "cell_type": "code",
   "execution_count": null,
   "metadata": {},
   "outputs": [],
   "source": []
  },
  {
   "cell_type": "code",
   "execution_count": null,
   "metadata": {},
   "outputs": [],
   "source": [
    "sfdd"
   ]
  },
  {
   "cell_type": "code",
   "execution_count": null,
   "metadata": {},
   "outputs": [],
   "source": [
    "sfdd = SFrame()\n",
    "for i in sfdd_list:\n",
    "    url = sfdd_url + i\n",
    "    sfdd = sfdd.append(SFrame.read_csv(url))"
   ]
  },
  {
   "cell_type": "code",
   "execution_count": null,
   "metadata": {},
   "outputs": [],
   "source": [
    "import wikipedia"
   ]
  },
  {
   "cell_type": "code",
   "execution_count": null,
   "metadata": {},
   "outputs": [],
   "source": [
    "print "
   ]
  },
  {
   "cell_type": "code",
   "execution_count": null,
   "metadata": {},
   "outputs": [],
   "source": [
    "article"
   ]
  },
  {
   "cell_type": "code",
   "execution_count": null,
   "metadata": {},
   "outputs": [],
   "source": [
    "def get_wikitext(x):\n",
    "    try:\n",
    "        return wikipedia.summary(x)\n",
    "    except:\n",
    "        pass"
   ]
  },
  {
   "cell_type": "code",
   "execution_count": null,
   "metadata": {},
   "outputs": [],
   "source": [
    "pdflist['wikisummary'] = pdflist['NAME'].apply(lambda x: get_wikitext(x))"
   ]
  },
  {
   "cell_type": "code",
   "execution_count": null,
   "metadata": {},
   "outputs": [],
   "source": [
    "pdflist"
   ]
  },
  {
   "cell_type": "code",
   "execution_count": null,
   "metadata": {},
   "outputs": [],
   "source": []
  }
 ],
 "metadata": {
  "anaconda-cloud": {},
  "kernelspec": {
   "display_name": "Python [default]",
   "language": "python",
   "name": "python2"
  },
  "language_info": {
   "codemirror_mode": {
    "name": "ipython",
    "version": 2
   },
   "file_extension": ".py",
   "mimetype": "text/x-python",
   "name": "python",
   "nbconvert_exporter": "python",
   "pygments_lexer": "ipython2",
   "version": "2.7.13"
  },
  "toc": {
   "nav_menu": {},
   "number_sections": true,
   "sideBar": true,
   "skip_h1_title": false,
   "title_cell": "Table of Contents",
   "title_sidebar": "Contents",
   "toc_cell": false,
   "toc_position": {},
   "toc_section_display": true,
   "toc_window_display": false
  }
 },
 "nbformat": 4,
 "nbformat_minor": 2
}
